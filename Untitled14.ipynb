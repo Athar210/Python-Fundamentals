{
 "cells": [
  {
   "cell_type": "markdown",
   "metadata": {},
   "source": [
    "# C L A S S E S S"
   ]
  },
  {
   "cell_type": "code",
   "execution_count": 14,
   "metadata": {},
   "outputs": [],
   "source": [
    "class Patient():\n",
    "    def __init__(self,name,age,gender,disease):\n",
    "        # called constructor but called initializer in python\n",
    "        # Attributes >> properties >> properties\n",
    "        #behavior  >> functions/ methods\n",
    "        #### Attrinutes #####\n",
    "        self.name = name\n",
    "        self.age = age\n",
    "        self.gender = gender\n",
    "        self.disease = disease"
   ]
  },
  {
   "cell_type": "code",
   "execution_count": 15,
   "metadata": {},
   "outputs": [],
   "source": [
    "p1 = Patient(\"Sami\",80,\"MALE\",\"AIDS\")"
   ]
  },
  {
   "cell_type": "code",
   "execution_count": 16,
   "metadata": {},
   "outputs": [],
   "source": [
    "p2 = Patient(\"Bilal\",50,\"Female\",\"Motions\")"
   ]
  },
  {
   "cell_type": "code",
   "execution_count": 17,
   "metadata": {},
   "outputs": [
    {
     "data": {
      "text/plain": [
       "'Sami'"
      ]
     },
     "execution_count": 17,
     "metadata": {},
     "output_type": "execute_result"
    }
   ],
   "source": [
    "p1.name"
   ]
  },
  {
   "cell_type": "code",
   "execution_count": 18,
   "metadata": {},
   "outputs": [
    {
     "data": {
      "text/plain": [
       "50"
      ]
     },
     "execution_count": 18,
     "metadata": {},
     "output_type": "execute_result"
    }
   ],
   "source": [
    "p2.age"
   ]
  },
  {
   "cell_type": "code",
   "execution_count": 19,
   "metadata": {},
   "outputs": [
    {
     "data": {
      "text/plain": [
       "'Motions'"
      ]
     },
     "execution_count": 19,
     "metadata": {},
     "output_type": "execute_result"
    }
   ],
   "source": [
    "p2.disease"
   ]
  },
  {
   "cell_type": "code",
   "execution_count": 20,
   "metadata": {},
   "outputs": [
    {
     "data": {
      "text/plain": [
       "'Female'"
      ]
     },
     "execution_count": 20,
     "metadata": {},
     "output_type": "execute_result"
    }
   ],
   "source": [
    "p2.gender"
   ]
  },
  {
   "cell_type": "code",
   "execution_count": 21,
   "metadata": {},
   "outputs": [],
   "source": [
    "class Students():\n",
    "    def __init__(self,name,grade,subject,marks,percentage):\n",
    "        self.name = name\n",
    "        self.grade = grade\n",
    "        self.subject = subject\n",
    "        self.marks = marks\n",
    "        self.percentage = percentage\n"
   ]
  },
  {
   "cell_type": "code",
   "execution_count": 22,
   "metadata": {},
   "outputs": [
    {
     "name": "stdout",
     "output_type": "stream",
     "text": [
      "Athar\n",
      "5th\n",
      "CS\n",
      "27\n",
      "52\n",
      "\n",
      "\n",
      "Bilal\n",
      "4th\n",
      "IT\n",
      "77\n",
      "87\n"
     ]
    }
   ],
   "source": [
    "p1 = Students(\"Athar\",\"5th\",\"CS\",27,52)\n",
    "p2 = Students(\"Bilal\",\"4th\",\"IT\",77,87)\n",
    "print(p1.name)\n",
    "print(p1.grade)\n",
    "print(p1.subject)\n",
    "print(p1.marks)\n",
    "print(p1.percentage)\n",
    "print()\n",
    "print()\n",
    "print(p2.name)\n",
    "print(p2.grade)\n",
    "print(p2.subject)\n",
    "print(p2.marks)\n",
    "print(p2.percentage)"
   ]
  },
  {
   "cell_type": "code",
   "execution_count": 23,
   "metadata": {},
   "outputs": [],
   "source": [
    "class Dog():\n",
    "    def __init__(self,name,age):\n",
    "        self.name = name\n",
    "        self.age = name\n",
    "        \n",
    "    def sit(self):\n",
    "        print(self.name.title()+\" is eating now! \")\n",
    "    \n",
    "    def roll(self):\n",
    "        print(self.name.title()+\" naach rha hai!!\")\n",
    "    "
   ]
  },
  {
   "cell_type": "code",
   "execution_count": 24,
   "metadata": {},
   "outputs": [],
   "source": [
    "d1 = Dog(\"bilal\", 46)"
   ]
  },
  {
   "cell_type": "code",
   "execution_count": 25,
   "metadata": {},
   "outputs": [
    {
     "name": "stdout",
     "output_type": "stream",
     "text": [
      "Bilal is eating now! \n"
     ]
    }
   ],
   "source": [
    "d1.sit()"
   ]
  },
  {
   "cell_type": "code",
   "execution_count": 26,
   "metadata": {},
   "outputs": [],
   "source": [
    "class restaurant():\n",
    "    def __init__(self, name, cuisine):\n",
    "        self.name = name\n",
    "        self.cuisine = cuisine\n",
    "        \n",
    "    def describe_restaurant(self):\n",
    "        print(f\"The name of Restaurant is \" +self.name.upper())\n",
    "        print(f\"Famous food is \" + self.cuisine.title())\n",
    "    def openn(self):\n",
    "        print(self.name.title() + \" is close right now\")"
   ]
  },
  {
   "cell_type": "code",
   "execution_count": 27,
   "metadata": {},
   "outputs": [
    {
     "name": "stdout",
     "output_type": "stream",
     "text": [
      "The name of Restaurant is ANWER BALOCH \n",
      "Famous food is Karahi \n",
      "Anwer Baloch  is close right now\n",
      "The name of Restaurant is ZAHID NIHARI\n",
      "Famous food is Nihari\n",
      "Zahid Nihari is close right now\n"
     ]
    }
   ],
   "source": [
    "c1 = restaurant(\"Anwer Baloch \", \"Karahi \")\n",
    "c2 = restaurant(\"Zahid Nihari\", \"Nihari\")\n",
    "c1.describe_restaurant()\n",
    "c1.openn()\n",
    "c2.describe_restaurant()\n",
    "c2.openn()"
   ]
  },
  {
   "cell_type": "code",
   "execution_count": 28,
   "metadata": {},
   "outputs": [
    {
     "name": "stdout",
     "output_type": "stream",
     "text": [
      "2019 Audi A4\n"
     ]
    }
   ],
   "source": [
    "class Car():\n",
    "    def __init__(self,make,model,year):\n",
    "        self.make = make\n",
    "        self.model = model\n",
    "        self.year = year\n",
    "        \n",
    "    def D_name(self):\n",
    "        longname = str(self.year) + \" \" + self.make +\" \"+ self.model\n",
    "        return longname.title()\n",
    "\n",
    "c1 =Car(\"Audi\",\"A4\",2019)\n",
    "print(c1.D_name())"
   ]
  },
  {
   "cell_type": "code",
   "execution_count": 29,
   "metadata": {},
   "outputs": [],
   "source": [
    "# Another example"
   ]
  },
  {
   "cell_type": "code",
   "execution_count": 30,
   "metadata": {},
   "outputs": [],
   "source": [
    "class Car():\n",
    "    \n",
    "    def __init__(self,make,model,year):\n",
    "        self.make = make\n",
    "        self.model = model\n",
    "        self.year = year\n",
    "        self.readings_odometer = 0 # this attribute is not mandatory for instance creation\n",
    "    def D_name(self):\n",
    "        longname = str(self.year) + \" \" + self.make +\" \"+ self.model\n",
    "        return longname.title()\n",
    "    def read_odometer(self):\n",
    "        print(f\"This car has \"+ str(self.readings_odometer) + \" miles on\")\n"
   ]
  },
  {
   "cell_type": "code",
   "execution_count": 31,
   "metadata": {},
   "outputs": [
    {
     "name": "stdout",
     "output_type": "stream",
     "text": [
      "This car has 0 miles on\n"
     ]
    }
   ],
   "source": [
    "c1 = Car(\"Audi\",\"A4\",2019)\n",
    "c1.D_name()\n",
    "c1.read_odometer()"
   ]
  },
  {
   "cell_type": "code",
   "execution_count": 34,
   "metadata": {},
   "outputs": [
    {
     "name": "stdout",
     "output_type": "stream",
     "text": [
      "Your Car0\n",
      "None\n"
     ]
    }
   ],
   "source": [
    "class Car():\n",
    "    def __init__(self,make,model,year):\n",
    "        self.make = make\n",
    "        self.model = model\n",
    "        self.year = year\n",
    "        self.ooodo = 0\n",
    "    def D_name(self):\n",
    "        longname = str(self.year) + \" \" + self.make +\" \"+ self.model\n",
    "        return longname.title()\n",
    "    def oodo(self):\n",
    "        print(\"Your Car\" + str(self.ooodo))\n",
    "m1 = Car(\"Audi\",\"A4\",2019 )\n",
    "print(m1.oodo())  "
   ]
  },
  {
   "cell_type": "code",
   "execution_count": 44,
   "metadata": {},
   "outputs": [],
   "source": [
    "class Carr():\n",
    "    def __init__(self,make,year,model):\n",
    "        self.make = make\n",
    "        self.year = year\n",
    "        self.model = model\n",
    "        self.odo_readings = 20\n",
    "    def gari(self):\n",
    "        longname = \"your car is\" + str(self.year) + self.make +\" \"+ self.model\n",
    "        return longname.title()\n",
    "    def readings(self):\n",
    "        print(f\" your car has {self.odo_readings} miles\")\n",
    "    def update(self, mileage):\n",
    "        self.odo_readings = mileage\n",
    "    def inc(self, miles):\n",
    "        self.odo_readings += miles\n",
    "        "
   ]
  },
  {
   "cell_type": "code",
   "execution_count": 74,
   "metadata": {},
   "outputs": [
    {
     "data": {
      "text/plain": [
       "'Your Car Is2019 Ferrari  Laferrari'"
      ]
     },
     "execution_count": 74,
     "metadata": {},
     "output_type": "execute_result"
    }
   ],
   "source": [
    "mm1 = Carr(\" Ferrari\", 2019 ,\" laferrari\")\n",
    "mm1.gari()"
   ]
  },
  {
   "cell_type": "code",
   "execution_count": 75,
   "metadata": {},
   "outputs": [
    {
     "name": "stdout",
     "output_type": "stream",
     "text": [
      " your car has 20 miles\n"
     ]
    }
   ],
   "source": [
    "mm1.readings()\n",
    "mm1.inc(50)\n",
    "mm1.update(200)"
   ]
  },
  {
   "cell_type": "code",
   "execution_count": 95,
   "metadata": {},
   "outputs": [
    {
     "name": "stdout",
     "output_type": "stream",
     "text": [
      " your car has 200 miles\n"
     ]
    }
   ],
   "source": [
    "mm1.update(200)\n",
    "mm1.readings()"
   ]
  },
  {
   "cell_type": "code",
   "execution_count": 105,
   "metadata": {},
   "outputs": [
    {
     "name": "stdout",
     "output_type": "stream",
     "text": [
      " your car has 45386 miles\n"
     ]
    }
   ],
   "source": [
    "mm1.inc(4531)\n",
    "mm1.readings()"
   ]
  },
  {
   "cell_type": "code",
   "execution_count": null,
   "metadata": {},
   "outputs": [],
   "source": []
  },
  {
   "cell_type": "code",
   "execution_count": null,
   "metadata": {},
   "outputs": [],
   "source": []
  },
  {
   "cell_type": "code",
   "execution_count": null,
   "metadata": {},
   "outputs": [],
   "source": []
  },
  {
   "cell_type": "code",
   "execution_count": null,
   "metadata": {},
   "outputs": [],
   "source": []
  },
  {
   "cell_type": "code",
   "execution_count": null,
   "metadata": {},
   "outputs": [],
   "source": []
  },
  {
   "cell_type": "code",
   "execution_count": null,
   "metadata": {},
   "outputs": [],
   "source": []
  },
  {
   "cell_type": "code",
   "execution_count": null,
   "metadata": {},
   "outputs": [],
   "source": []
  },
  {
   "cell_type": "code",
   "execution_count": null,
   "metadata": {},
   "outputs": [],
   "source": []
  },
  {
   "cell_type": "code",
   "execution_count": null,
   "metadata": {},
   "outputs": [],
   "source": []
  },
  {
   "cell_type": "code",
   "execution_count": null,
   "metadata": {},
   "outputs": [],
   "source": []
  },
  {
   "cell_type": "code",
   "execution_count": null,
   "metadata": {},
   "outputs": [],
   "source": []
  },
  {
   "cell_type": "code",
   "execution_count": null,
   "metadata": {},
   "outputs": [],
   "source": []
  },
  {
   "cell_type": "code",
   "execution_count": null,
   "metadata": {},
   "outputs": [],
   "source": []
  },
  {
   "cell_type": "code",
   "execution_count": null,
   "metadata": {},
   "outputs": [],
   "source": []
  },
  {
   "cell_type": "code",
   "execution_count": null,
   "metadata": {},
   "outputs": [],
   "source": []
  },
  {
   "cell_type": "code",
   "execution_count": null,
   "metadata": {},
   "outputs": [],
   "source": []
  },
  {
   "cell_type": "code",
   "execution_count": null,
   "metadata": {},
   "outputs": [],
   "source": []
  },
  {
   "cell_type": "code",
   "execution_count": null,
   "metadata": {},
   "outputs": [],
   "source": []
  },
  {
   "cell_type": "code",
   "execution_count": null,
   "metadata": {},
   "outputs": [],
   "source": []
  },
  {
   "cell_type": "code",
   "execution_count": null,
   "metadata": {},
   "outputs": [],
   "source": []
  },
  {
   "cell_type": "code",
   "execution_count": null,
   "metadata": {},
   "outputs": [],
   "source": []
  },
  {
   "cell_type": "code",
   "execution_count": null,
   "metadata": {},
   "outputs": [],
   "source": []
  },
  {
   "cell_type": "code",
   "execution_count": null,
   "metadata": {},
   "outputs": [],
   "source": []
  },
  {
   "cell_type": "code",
   "execution_count": null,
   "metadata": {},
   "outputs": [],
   "source": []
  },
  {
   "cell_type": "code",
   "execution_count": null,
   "metadata": {},
   "outputs": [],
   "source": []
  },
  {
   "cell_type": "code",
   "execution_count": null,
   "metadata": {},
   "outputs": [],
   "source": []
  },
  {
   "cell_type": "code",
   "execution_count": null,
   "metadata": {},
   "outputs": [],
   "source": []
  }
 ],
 "metadata": {
  "kernelspec": {
   "display_name": "Python 3",
   "language": "python",
   "name": "python3"
  },
  "language_info": {
   "codemirror_mode": {
    "name": "ipython",
    "version": 3
   },
   "file_extension": ".py",
   "mimetype": "text/x-python",
   "name": "python",
   "nbconvert_exporter": "python",
   "pygments_lexer": "ipython3",
   "version": "3.7.3"
  }
 },
 "nbformat": 4,
 "nbformat_minor": 2
}
