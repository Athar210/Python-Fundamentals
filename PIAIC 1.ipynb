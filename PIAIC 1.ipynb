{
 "cells": [
  {
   "cell_type": "markdown",
   "metadata": {},
   "source": [
    "# PRINT"
   ]
  },
  {
   "cell_type": "raw",
   "metadata": {},
   "source": [
    "The print function in Python is a function that outputs to your console window whatever you say you want to print out.\n",
    "At first blush, it might appear that the print function is rather useless for programming, \n",
    "but it is actually one of the most widely used functions in all of python.\n",
    "This means that whenever you write Python code, print always means that it will print the result.\n"
   ]
  },
  {
   "cell_type": "code",
   "execution_count": 1,
   "metadata": {},
   "outputs": [
    {
     "name": "stdout",
     "output_type": "stream",
     "text": [
      "Hello Python!\n"
     ]
    }
   ],
   "source": [
    "print('Hello Python!')"
   ]
  },
  {
   "cell_type": "code",
   "execution_count": 2,
   "metadata": {},
   "outputs": [
    {
     "name": "stdout",
     "output_type": "stream",
     "text": [
      "Hamza Khan\n"
     ]
    }
   ],
   "source": [
    "name = \"Shahzad Ahsan\"\n",
    "name = 'Hamza Khan'\n",
    "#name Shahzad Ahsan will be over-ride by Hamza Khan.\n",
    "print(name)"
   ]
  },
  {
   "cell_type": "code",
   "execution_count": 3,
   "metadata": {},
   "outputs": [
    {
     "name": "stdout",
     "output_type": "stream",
     "text": [
      "Pakistan Zindabad\n",
      "<class 'str'>\n",
      "<class 'int'>\n",
      "<class 'float'>\n"
     ]
    }
   ],
   "source": [
    "num = \"Pakistan Zindabad\"\n",
    "print(num)\n",
    "\n",
    "#Type function refers the type of variable weather it is string , integer or float.\n",
    "var1 = 'abc' \n",
    "var2 = 123\n",
    "var3 = 5.34 \n",
    "print(type(var1))\n",
    "print(type(var2))\n",
    "print(type(var3))\n"
   ]
  },
  {
   "cell_type": "markdown",
   "metadata": {},
   "source": [
    "# Over-ride"
   ]
  },
  {
   "cell_type": "code",
   "execution_count": 4,
   "metadata": {},
   "outputs": [
    {
     "name": "stdout",
     "output_type": "stream",
     "text": [
      "Good Evening\n",
      "How are you all?\n"
     ]
    }
   ],
   "source": [
    "message = \"Good Evening\"\n",
    "print(message)\n",
    "message = 'How are you all?'\n",
    "print(message)\n",
    "\n",
    "# old message will get over-ride by the new one."
   ]
  },
  {
   "cell_type": "markdown",
   "metadata": {},
   "source": [
    "# Title Case"
   ]
  },
  {
   "cell_type": "markdown",
   "metadata": {},
   "source": [
    "### What is title case in python?"
   ]
  },
  {
   "cell_type": "markdown",
   "metadata": {},
   "source": [
    "##### Python String Title method. \n",
    "##### Title function in python is the Python String Method which is used to convert the first character \n",
    "##### in each word to Uppercase and remaining characters to Lowercase in string and returns new string. ... \n",
    "##### str.Title() \n",
    "##### parameters:str is a valid string which we need to convert."
   ]
  },
  {
   "cell_type": "code",
   "execution_count": 5,
   "metadata": {},
   "outputs": [
    {
     "name": "stdout",
     "output_type": "stream",
     "text": [
      "Muhammad\n"
     ]
    }
   ],
   "source": [
    "First_name = \"muhammad\"\n",
    "print(First_name.title())"
   ]
  },
  {
   "cell_type": "markdown",
   "metadata": {},
   "source": [
    "# Lower Case"
   ]
  },
  {
   "cell_type": "markdown",
   "metadata": {},
   "source": [
    "### What is lower case in python?"
   ]
  },
  {
   "cell_type": "markdown",
   "metadata": {},
   "source": [
    "##### In Python, lower() is a built-in method used for string handling. \n",
    "##### The lower() methods returns the lowercased string from the given string. \n",
    "##### It converts all uppercase characters to lowercase. If no uppercase characters exist, it returns the original string."
   ]
  },
  {
   "cell_type": "code",
   "execution_count": 6,
   "metadata": {},
   "outputs": [
    {
     "name": "stdout",
     "output_type": "stream",
     "text": [
      "hamza\n"
     ]
    }
   ],
   "source": [
    "Middle_name = 'HaMZa'\n",
    "print(Middle_name.lower())"
   ]
  },
  {
   "cell_type": "markdown",
   "metadata": {},
   "source": [
    "# Upper Case"
   ]
  },
  {
   "cell_type": "markdown",
   "metadata": {},
   "source": [
    "### What is upper case in python?"
   ]
  },
  {
   "cell_type": "markdown",
   "metadata": {},
   "source": [
    "##### In Python, upper() is a built-in method used for string handling.\n",
    "##### The upper() methods returns the uppercased string from the given string.\n",
    "##### It converts all lowercase characters to uppercase.\n",
    "##### If no lowercase characters exist, it returns the original string."
   ]
  },
  {
   "cell_type": "code",
   "execution_count": 7,
   "metadata": {},
   "outputs": [
    {
     "name": "stdout",
     "output_type": "stream",
     "text": [
      "KHAN\n"
     ]
    }
   ],
   "source": [
    "Last_name = \"khan\"\n",
    "print(Last_name.upper())"
   ]
  },
  {
   "cell_type": "markdown",
   "metadata": {},
   "source": [
    "# Variables for Numbers"
   ]
  },
  {
   "cell_type": "code",
   "execution_count": 8,
   "metadata": {},
   "outputs": [
    {
     "name": "stdout",
     "output_type": "stream",
     "text": [
      "120\n"
     ]
    }
   ],
   "source": [
    "number = 120\n",
    "print(number)"
   ]
  },
  {
   "cell_type": "markdown",
   "metadata": {},
   "source": [
    "## Add number to a varibale"
   ]
  },
  {
   "cell_type": "code",
   "execution_count": 9,
   "metadata": {},
   "outputs": [
    {
     "name": "stdout",
     "output_type": "stream",
     "text": [
      "170\n"
     ]
    }
   ],
   "source": [
    "num_1 = 150 \n",
    "print(num_1 + 20)"
   ]
  },
  {
   "cell_type": "markdown",
   "metadata": {},
   "source": [
    "## Adding variables of number together"
   ]
  },
  {
   "cell_type": "markdown",
   "metadata": {},
   "source": [
    "### Note:"
   ]
  },
  {
   "cell_type": "markdown",
   "metadata": {},
   "source": [
    "###### While adding numbers , if one number will be float the output will be float."
   ]
  },
  {
   "cell_type": "code",
   "execution_count": 10,
   "metadata": {},
   "outputs": [
    {
     "name": "stdout",
     "output_type": "stream",
     "text": [
      "90\n"
     ]
    }
   ],
   "source": [
    "num_1 = 20\n",
    "num_2 = 30 \n",
    "num_3 = 40\n",
    "print(num_1 + num_2 + num_3)"
   ]
  },
  {
   "cell_type": "code",
   "execution_count": 11,
   "metadata": {},
   "outputs": [
    {
     "name": "stdout",
     "output_type": "stream",
     "text": [
      "7.5\n"
     ]
    }
   ],
   "source": [
    "a = 2\n",
    "b = 3.5\n",
    "c = 2\n",
    "total = a + b + c\n",
    "print(total)"
   ]
  },
  {
   "cell_type": "markdown",
   "metadata": {},
   "source": [
    "###### Perform some mathematics operations on variables."
   ]
  },
  {
   "cell_type": "code",
   "execution_count": 12,
   "metadata": {},
   "outputs": [
    {
     "name": "stdout",
     "output_type": "stream",
     "text": [
      "24\n"
     ]
    }
   ],
   "source": [
    "num1 = 5\n",
    "num2 = 4\n",
    "num3 = 2\n",
    "num4 = 7\n",
    "num5 = 6\n",
    "num6 = 10\n",
    "total = (num1 * num2) + (num3 * num4) - num6 \n",
    "print(total)"
   ]
  },
  {
   "cell_type": "markdown",
   "metadata": {},
   "source": [
    "# Type Casting"
   ]
  },
  {
   "cell_type": "code",
   "execution_count": 13,
   "metadata": {},
   "outputs": [
    {
     "name": "stdout",
     "output_type": "stream",
     "text": [
      "11\n"
     ]
    }
   ],
   "source": [
    "num = 10\n",
    "another_num = 1.9\n",
    "total = num + another_num\n",
    "print(int(total)) #type casting"
   ]
  },
  {
   "cell_type": "code",
   "execution_count": 14,
   "metadata": {},
   "outputs": [
    {
     "ename": "TypeError",
     "evalue": "must be str, not int",
     "output_type": "error",
     "traceback": [
      "\u001b[1;31m---------------------------------------------------------------------------\u001b[0m",
      "\u001b[1;31mTypeError\u001b[0m                                 Traceback (most recent call last)",
      "\u001b[1;32m<ipython-input-14-184ff38e7370>\u001b[0m in \u001b[0;36m<module>\u001b[1;34m()\u001b[0m\n\u001b[0;32m      1\u001b[0m \u001b[1;31m# int to string\u001b[0m\u001b[1;33m\u001b[0m\u001b[1;33m\u001b[0m\u001b[0m\n\u001b[0;32m      2\u001b[0m \u001b[0mage\u001b[0m \u001b[1;33m=\u001b[0m \u001b[1;36m21\u001b[0m\u001b[1;33m\u001b[0m\u001b[0m\n\u001b[1;32m----> 3\u001b[1;33m \u001b[0mmessage\u001b[0m \u001b[1;33m=\u001b[0m \u001b[1;34m\"Happy \"\u001b[0m \u001b[1;33m+\u001b[0m \u001b[0mage\u001b[0m \u001b[1;33m+\u001b[0m \u001b[1;34m\"rd Birthday!\"\u001b[0m\u001b[1;33m\u001b[0m\u001b[0m\n\u001b[0m\u001b[0;32m      4\u001b[0m \u001b[1;31m#It must be show error because integer and string can never be concatenate with each other.\u001b[0m\u001b[1;33m\u001b[0m\u001b[1;33m\u001b[0m\u001b[0m\n\u001b[0;32m      5\u001b[0m \u001b[1;31m# To come out from this error we have to type cast \"age\" into string.\u001b[0m\u001b[1;33m\u001b[0m\u001b[1;33m\u001b[0m\u001b[0m\n",
      "\u001b[1;31mTypeError\u001b[0m: must be str, not int"
     ]
    }
   ],
   "source": [
    "# int to string\n",
    "age = 21\n",
    "message = \"Happy \" + age + \"rd Birthday!\"\n",
    "#It must be show error because integer and string can never be concatenate with each other.\n",
    "# To come out from this error we have to type cast \"age\" into string.\n",
    "#for eg:\n",
    "# message = \"Happy\" + str(age) + \"rd Birthday!\"\n",
    "print(message)"
   ]
  },
  {
   "cell_type": "code",
   "execution_count": 15,
   "metadata": {},
   "outputs": [
    {
     "name": "stdout",
     "output_type": "stream",
     "text": [
      "Happy 21rd Birthday!\n"
     ]
    }
   ],
   "source": [
    "age = 21\n",
    "message = \"Happy \" + str(age) + \"rd Birthday!\"\n",
    "print(message)"
   ]
  },
  {
   "cell_type": "markdown",
   "metadata": {},
   "source": [
    "# Concatenating text strings"
   ]
  },
  {
   "cell_type": "code",
   "execution_count": 16,
   "metadata": {},
   "outputs": [
    {
     "name": "stdout",
     "output_type": "stream",
     "text": [
      "syEd zohAib owAiS\n",
      "Syed Zohaib Owais\n",
      "syed zohaib owais\n",
      "SYED ZOHAIB OWAIS\n"
     ]
    }
   ],
   "source": [
    "FirstName = 'syEd'\n",
    "MiddleName = 'zohAib'\n",
    "LastName = 'owAiS'\n",
    "full_name = FirstName + \" \" + MiddleName + \" \" + LastName\n",
    "print(full_name)\n",
    "print(full_name.title())\n",
    "print(full_name.lower())\n",
    "print(full_name.upper())\n"
   ]
  },
  {
   "cell_type": "code",
   "execution_count": 17,
   "metadata": {},
   "outputs": [
    {
     "name": "stdout",
     "output_type": "stream",
     "text": [
      "I love to ride Harley Davidson .. \n"
     ]
    }
   ],
   "source": [
    "F_name =  'Harley'\n",
    "L_name = 'Davidson'\n",
    "Full_name = F_name + \" \" + L_name\n",
    "print(\"I love to ride \" + Full_name + \" .. \")"
   ]
  },
  {
   "cell_type": "markdown",
   "metadata": {},
   "source": [
    "# Math expressions: Unfamiliar operators"
   ]
  },
  {
   "cell_type": "markdown",
   "metadata": {},
   "source": [
    "### Increment"
   ]
  },
  {
   "cell_type": "code",
   "execution_count": 18,
   "metadata": {},
   "outputs": [
    {
     "name": "stdout",
     "output_type": "stream",
     "text": [
      "3\n"
     ]
    }
   ],
   "source": [
    "age = 2\n",
    "age = age + 1\n",
    "#age += 1\n",
    "print(age)"
   ]
  },
  {
   "cell_type": "code",
   "execution_count": 19,
   "metadata": {},
   "outputs": [
    {
     "name": "stdout",
     "output_type": "stream",
     "text": [
      "62\n"
     ]
    }
   ],
   "source": [
    "age = 12\n",
    "age += 50\n",
    "print(age)"
   ]
  },
  {
   "cell_type": "markdown",
   "metadata": {},
   "source": [
    "### Decrement"
   ]
  },
  {
   "cell_type": "code",
   "execution_count": 20,
   "metadata": {},
   "outputs": [
    {
     "name": "stdout",
     "output_type": "stream",
     "text": [
      "9\n"
     ]
    }
   ],
   "source": [
    "age = 12\n",
    "age -= 3\n",
    "print(age)"
   ]
  },
  {
   "cell_type": "markdown",
   "metadata": {},
   "source": [
    "### Modulus"
   ]
  },
  {
   "cell_type": "code",
   "execution_count": 21,
   "metadata": {},
   "outputs": [
    {
     "name": "stdout",
     "output_type": "stream",
     "text": [
      "2\n"
     ]
    }
   ],
   "source": [
    "age = 12\n",
    "age %= 5\n",
    "print(age)"
   ]
  },
  {
   "cell_type": "markdown",
   "metadata": {},
   "source": [
    "#### Make a program that takes input from the user, and let us know whether the number is even or add..."
   ]
  },
  {
   "cell_type": "code",
   "execution_count": 1,
   "metadata": {},
   "outputs": [
    {
     "name": "stdout",
     "output_type": "stream",
     "text": [
      "Enter the number: 45\n",
      "Number id odd\n"
     ]
    }
   ],
   "source": [
    "#Taking user input\n",
    "# user input is by-default is string.We are rapping it with integer.\n",
    "num = int(input(\"Enter the number: \")) # rapping input in integer\n",
    "# checking the condition\n",
    "#if the reminder will be equal to zero , so the number will be even , else number will be odd.....\n",
    "if num % 2 == 0:\n",
    "    print(\"Number is even\")\n",
    "    \n",
    "else:\n",
    "    print(\"Number id odd\")"
   ]
  },
  {
   "cell_type": "markdown",
   "metadata": {},
   "source": [
    "# Math expressions: Eliminating ambiguity"
   ]
  },
  {
   "cell_type": "markdown",
   "metadata": {},
   "source": [
    "Ambuigity"
   ]
  },
  {
   "cell_type": "code",
   "execution_count": 2,
   "metadata": {},
   "outputs": [
    {
     "data": {
      "text/plain": [
       "14"
      ]
     },
     "execution_count": 2,
     "metadata": {},
     "output_type": "execute_result"
    }
   ],
   "source": [
    "c = 2 + 3*4\n",
    "c"
   ]
  },
  {
   "cell_type": "code",
   "execution_count": 3,
   "metadata": {},
   "outputs": [
    {
     "data": {
      "text/plain": [
       "20"
      ]
     },
     "execution_count": 3,
     "metadata": {},
     "output_type": "execute_result"
    }
   ],
   "source": [
    "d = (2 + 3) * 4\n",
    "d"
   ]
  },
  {
   "cell_type": "markdown",
   "metadata": {},
   "source": [
    "# LIST"
   ]
  },
  {
   "cell_type": "markdown",
   "metadata": {},
   "source": [
    "### What is list in python? "
   ]
  },
  {
   "cell_type": "markdown",
   "metadata": {},
   "source": [
    "##### A list is a data structure in Python that is a mutable, or changeable, ordered sequence of elements. \n",
    "##### Each element or value that is inside of a list is called an item. \n",
    "##### Just as strings are defined as characters between quotes, lists are defined by having values between square brackets [ ] ."
   ]
  },
  {
   "cell_type": "code",
   "execution_count": 4,
   "metadata": {},
   "outputs": [
    {
     "name": "stdout",
     "output_type": "stream",
     "text": [
      "['trek', 'cannondale', 'redline', 'specialized']\n"
     ]
    }
   ],
   "source": [
    "bicycles = ['trek', 'cannondale', 'redline', 'specialized']\n",
    "#index  =    0           1             2           3   \n",
    "print(bicycles)"
   ]
  },
  {
   "cell_type": "markdown",
   "metadata": {},
   "source": [
    "## Indexing in list"
   ]
  },
  {
   "cell_type": "code",
   "execution_count": 5,
   "metadata": {},
   "outputs": [
    {
     "name": "stdout",
     "output_type": "stream",
     "text": [
      "trek\n",
      "specialized\n"
     ]
    }
   ],
   "source": [
    "bicycles = ['trek', 'cannondale', 'redline', 'specialized']\n",
    "print(bicycles[0])\n",
    "print(bicycles[3])"
   ]
  },
  {
   "cell_type": "code",
   "execution_count": 6,
   "metadata": {},
   "outputs": [
    {
     "ename": "IndexError",
     "evalue": "list index out of range",
     "output_type": "error",
     "traceback": [
      "\u001b[1;31m---------------------------------------------------------------------------\u001b[0m",
      "\u001b[1;31mIndexError\u001b[0m                                Traceback (most recent call last)",
      "\u001b[1;32m<ipython-input-6-99719eed7397>\u001b[0m in \u001b[0;36m<module>\u001b[1;34m()\u001b[0m\n\u001b[0;32m      1\u001b[0m \u001b[0mnames\u001b[0m \u001b[1;33m=\u001b[0m \u001b[1;33m[\u001b[0m\u001b[1;34m'ahsan'\u001b[0m \u001b[1;33m,\u001b[0m \u001b[1;34m'ali'\u001b[0m \u001b[1;33m,\u001b[0m \u001b[1;34m'fatima'\u001b[0m \u001b[1;33m,\u001b[0m \u001b[1;34m'hamza'\u001b[0m \u001b[1;33m,\u001b[0m \u001b[1;34m'nimra'\u001b[0m\u001b[1;33m]\u001b[0m\u001b[1;33m\u001b[0m\u001b[0m\n\u001b[1;32m----> 2\u001b[1;33m \u001b[0mprint\u001b[0m\u001b[1;33m(\u001b[0m\u001b[0mnames\u001b[0m\u001b[1;33m[\u001b[0m\u001b[1;36m5\u001b[0m\u001b[1;33m]\u001b[0m\u001b[1;33m)\u001b[0m\u001b[1;33m\u001b[0m\u001b[0m\n\u001b[0m\u001b[0;32m      3\u001b[0m \u001b[1;33m\u001b[0m\u001b[0m\n\u001b[0;32m      4\u001b[0m \u001b[1;31m# In this code names contains 4 element. and we are trying to get the 5 index value , so the error will be occur.\u001b[0m\u001b[1;33m\u001b[0m\u001b[1;33m\u001b[0m\u001b[0m\n",
      "\u001b[1;31mIndexError\u001b[0m: list index out of range"
     ]
    }
   ],
   "source": [
    "names = ['ahsan' , 'ali' , 'fatima' , 'hamza' , 'nimra']\n",
    "print(names[5])\n",
    "\n",
    "# In this code names contains 4 element. and we are trying to get the 5 index value , so the error will be occur."
   ]
  },
  {
   "cell_type": "markdown",
   "metadata": {},
   "source": [
    "##### Apply Title and Upper case on the element of the list , through indexing....."
   ]
  },
  {
   "cell_type": "code",
   "execution_count": 7,
   "metadata": {},
   "outputs": [
    {
     "name": "stdout",
     "output_type": "stream",
     "text": [
      "Suzuki\n",
      "AUDI\n"
     ]
    }
   ],
   "source": [
    "cars = ['honda' , 'suzuki' , 'ferrari' , 'audi' , 'toyota']\n",
    "print(cars[1].title())\n",
    "print(cars[3].upper())"
   ]
  },
  {
   "cell_type": "markdown",
   "metadata": {},
   "source": [
    "## Negative Indexing"
   ]
  },
  {
   "cell_type": "code",
   "execution_count": 8,
   "metadata": {},
   "outputs": [
    {
     "name": "stdout",
     "output_type": "stream",
     "text": [
      "specialized\n",
      "cannondale\n"
     ]
    }
   ],
   "source": [
    "bicycles = ['trek', 'cannondale', 'redline', 'specialized']\n",
    "print(bicycles[-1])\n",
    "print(bicycles[-3])"
   ]
  },
  {
   "cell_type": "markdown",
   "metadata": {},
   "source": [
    "### Concatenate string with element of the list "
   ]
  },
  {
   "cell_type": "code",
   "execution_count": 9,
   "metadata": {},
   "outputs": [
    {
     "name": "stdout",
     "output_type": "stream",
     "text": [
      "My favourite car is Audi.\n"
     ]
    }
   ],
   "source": [
    "cars = ['honda' , 'suzuki' , 'ferrari' , 'audi' , 'toyota']\n",
    "message = \"My favourite car is \" + cars[3].title() + \".\"\n",
    "print(message)"
   ]
  },
  {
   "cell_type": "markdown",
   "metadata": {},
   "source": [
    "# Changing, Adding, and Removing Elements"
   ]
  },
  {
   "cell_type": "code",
   "execution_count": 10,
   "metadata": {},
   "outputs": [
    {
     "name": "stdout",
     "output_type": "stream",
     "text": [
      "['honda', 'yamaha', 'suzuki']\n"
     ]
    }
   ],
   "source": [
    "motorcycles = ['honda', 'yamaha', 'suzuki']\n",
    "print(motorcycles)"
   ]
  },
  {
   "cell_type": "markdown",
   "metadata": {},
   "source": [
    "### Replacing"
   ]
  },
  {
   "cell_type": "code",
   "execution_count": 11,
   "metadata": {},
   "outputs": [
    {
     "name": "stdout",
     "output_type": "stream",
     "text": [
      "['honda', 'yamaha', 'harley davidson']\n"
     ]
    }
   ],
   "source": [
    "motorcycles[2] = 'harley davidson'\n",
    "print(motorcycles)"
   ]
  },
  {
   "cell_type": "markdown",
   "metadata": {},
   "source": [
    "### APPEND : Add element to the end of the list"
   ]
  },
  {
   "cell_type": "markdown",
   "metadata": {},
   "source": [
    "###### Append: Adds its argument as a single element to the end of a list. ... NOTE: A list is an object. \n",
    "##### If you append another list onto a list, the first list will be a single object at the end of the list."
   ]
  },
  {
   "cell_type": "code",
   "execution_count": 12,
   "metadata": {},
   "outputs": [
    {
     "name": "stdout",
     "output_type": "stream",
     "text": [
      "['honda', 'yamaha', 'suzuki']\n",
      "['honda', 'yamaha', 'suzuki', 'ducati']\n"
     ]
    }
   ],
   "source": [
    "motorcycles = ['honda', 'yamaha', 'suzuki']\n",
    "print(motorcycles)\n",
    "motorcycles.append('ducati') #append will add in the end of the list.\n",
    "print(motorcycles)"
   ]
  },
  {
   "cell_type": "code",
   "execution_count": 13,
   "metadata": {},
   "outputs": [
    {
     "name": "stdout",
     "output_type": "stream",
     "text": [
      "['Atlanta', 'Baltimore', 'Chicago', 'Denver', 'Los Angeles', 'Seattle', 'New York']\n"
     ]
    }
   ],
   "source": [
    "cities = [\"Atlanta\", \"Baltimore\", \"Chicago\",\"Denver\", \"Los Angeles\", \"Seattle\"]\n",
    "cities.append(\"New York\")\n",
    "print(cities)"
   ]
  },
  {
   "cell_type": "code",
   "execution_count": 14,
   "metadata": {},
   "outputs": [
    {
     "name": "stdout",
     "output_type": "stream",
     "text": [
      "['I', 'Love', 'Ada', 'Lovelace']\n"
     ]
    }
   ],
   "source": [
    "#Add element to the empty list...\n",
    "\n",
    "words = []\n",
    "\n",
    "words.append('I')\n",
    "words.append('Love')\n",
    "words.append('Ada')\n",
    "words.append('Lovelace')\n",
    "\n",
    "\n",
    "print(words)"
   ]
  },
  {
   "cell_type": "markdown",
   "metadata": {},
   "source": [
    "## Insert"
   ]
  },
  {
   "cell_type": "markdown",
   "metadata": {},
   "source": [
    "##### insert() is an inbuilt function in Python that inserts a given element at a given index in a list."
   ]
  },
  {
   "cell_type": "markdown",
   "metadata": {},
   "source": [
    "### How do you use insert in Python?"
   ]
  },
  {
   "cell_type": "markdown",
   "metadata": {},
   "source": [
    "##### 1- The insert() function takes two parameters: index - position where an element needs to be inserted. ...\n",
    "##### 2- Return Value from insert() The insert() method only inserts the element to the list. It doesn't return anything; returns None ."
   ]
  },
  {
   "cell_type": "code",
   "execution_count": 15,
   "metadata": {},
   "outputs": [
    {
     "name": "stdout",
     "output_type": "stream",
     "text": [
      "['aman', 'hamza', 'ali', 'nouman', 'arsalan', 'azhar', 'jahanzaib']\n"
     ]
    }
   ],
   "source": [
    "friends = ['hamza', 'ali' , 'nouman' , 'arsalan' , 'azhar' , 'jahanzaib']\n",
    "friends.insert(0 , 'aman')\n",
    "print(friends)"
   ]
  },
  {
   "cell_type": "code",
   "execution_count": 16,
   "metadata": {},
   "outputs": [
    {
     "name": "stdout",
     "output_type": "stream",
     "text": [
      "['aman', 'hamza', 'ali', 'taha', 'nouman', 'arsalan', 'azhar', 'jahanzaib', 'hassan']\n"
     ]
    }
   ],
   "source": [
    "friends.insert(3 , 'taha')\n",
    "# index 199 is not in the list , so it will appear in the end of the list..\n",
    "friends.insert(199 , 'hassan')\n",
    "print(friends)"
   ]
  },
  {
   "cell_type": "markdown",
   "metadata": {},
   "source": [
    "## Remove"
   ]
  },
  {
   "cell_type": "markdown",
   "metadata": {},
   "source": [
    "##### 1- The remove() method takes a single element as an argument and removes it from the list. ...\n",
    "##### 2- Return Value from remove() The remove() method only removes the given element from the list. ..."
   ]
  },
  {
   "cell_type": "markdown",
   "metadata": {},
   "source": [
    "### How do I remove something from a list in Python?"
   ]
  },
  {
   "cell_type": "markdown",
   "metadata": {},
   "source": [
    "##### The remove() method removes the item which is passed as an argument. \n",
    "##### If you need to delete elements based on the index (like the fourth element or last element), \n",
    "##### you can use the pop() method. \n",
    "##### Also, you can use del statement to remove items from a list or delete an entire list."
   ]
  },
  {
   "cell_type": "code",
   "execution_count": 17,
   "metadata": {},
   "outputs": [
    {
     "name": "stdout",
     "output_type": "stream",
     "text": [
      "['laiba', 'umer', 'rabia', 'hamza', 'umer', 'fatima', 'ahmed']\n",
      "['laiba', 'rabia', 'hamza', 'umer', 'fatima', 'ahmed']\n"
     ]
    }
   ],
   "source": [
    "name = ['laiba' , 'umer' , 'rabia' , 'hamza' ,'umer', 'fatima' , 'ahmed']\n",
    "print(name)\n",
    "name.remove('umer')\n",
    "print(name)"
   ]
  },
  {
   "cell_type": "code",
   "execution_count": 18,
   "metadata": {},
   "outputs": [
    {
     "name": "stdout",
     "output_type": "stream",
     "text": [
      "['honda', 'suzuki', 'audi', 'rolls royce', 'mercedes-benz']\n",
      "['honda', 'suzuki', 'audi', 'mercedes-benz']\n",
      "\n",
      "A Rolls Royce is to expensive for me\n"
     ]
    }
   ],
   "source": [
    "cars = ['honda' , 'suzuki' , 'audi' , 'rolls royce' , 'mercedes-benz']\n",
    "print(cars)\n",
    "too_exp = 'rolls royce'\n",
    "cars.remove(too_exp)\n",
    "print(cars)\n",
    "print('\\nA '+ too_exp.title() + ' is to expensive for me')\n"
   ]
  },
  {
   "cell_type": "markdown",
   "metadata": {},
   "source": [
    "## POP"
   ]
  },
  {
   "cell_type": "markdown",
   "metadata": {},
   "source": [
    "###### pop() is an inbuilt function in Python that removes and returns last value from the list or the given index value. ... \n",
    "##### If index is not given, then last element is popped out and removed."
   ]
  },
  {
   "cell_type": "markdown",
   "metadata": {},
   "source": [
    "### What does pop () do in Python?"
   ]
  },
  {
   "cell_type": "markdown",
   "metadata": {},
   "source": [
    "###### If no index is specified, a.pop() removes and returns the last item in the list. \n",
    "###### (The square brackets around the i in the method signature denote that the parameter is optional,\n",
    "###### not that you should type square brackets at that position. \n",
    "###### You will see this notation frequently in the Python Library Reference.)"
   ]
  },
  {
   "cell_type": "code",
   "execution_count": 19,
   "metadata": {},
   "outputs": [
    {
     "name": "stdout",
     "output_type": "stream",
     "text": [
      "['honda', 'yamaha', 'suzuki']\n",
      "['honda', 'yamaha']\n",
      "suzuki\n"
     ]
    }
   ],
   "source": [
    "motorcycles = ['honda', 'yamaha', 'suzuki']\n",
    "print(motorcycles)\n",
    "\n",
    "popped_motorcycle = motorcycles.pop()\n",
    "print(motorcycles)\n",
    "\n",
    "print(popped_motorcycle)"
   ]
  },
  {
   "cell_type": "markdown",
   "metadata": {},
   "source": [
    "### POP through index..."
   ]
  },
  {
   "cell_type": "code",
   "execution_count": 20,
   "metadata": {},
   "outputs": [
    {
     "name": "stdout",
     "output_type": "stream",
     "text": [
      "The last motorcycle I owned was a HONDA.\n"
     ]
    }
   ],
   "source": [
    "motorcycles = ['honda', 'yamaha', 'suzuki']\n",
    "last_owned = motorcycles.pop(0)\n",
    "print(\"The last motorcycle I owned was a \" + last_owned.upper() + \".\")"
   ]
  },
  {
   "cell_type": "markdown",
   "metadata": {},
   "source": [
    "# Sort"
   ]
  },
  {
   "cell_type": "markdown",
   "metadata": {},
   "source": [
    "##### The sort() method sorts the elements of a given list in a specific order - Ascending or Descending. \n",
    "##### The syntax of sort() method is: list.sort(key=..., reverse=...) \n",
    "##### Alternatively, you can also use Python's in-built function sorted() for the same purpose."
   ]
  },
  {
   "cell_type": "code",
   "execution_count": 21,
   "metadata": {},
   "outputs": [
    {
     "name": "stdout",
     "output_type": "stream",
     "text": [
      "['ahmed', 'ahsan', 'ali', 'hamza', 'jahanzaib', 'umer', 'zohiab']\n"
     ]
    }
   ],
   "source": [
    "friends = ['zohiab' , 'umer' , 'ali' , 'hamza' , 'jahanzaib' , 'ahmed' , 'ahsan']\n",
    "friends.sort()\n",
    "print(friends)"
   ]
  },
  {
   "cell_type": "code",
   "execution_count": 22,
   "metadata": {},
   "outputs": [
    {
     "name": "stdout",
     "output_type": "stream",
     "text": [
      "['zohiab', 'umer', 'jahanzaib', 'hamza', 'ali', 'ahsan', 'ahmed']\n"
     ]
    }
   ],
   "source": [
    "friends = ['zohiab' , 'umer' , 'ali' , 'hamza' , 'jahanzaib' , 'ahmed' , 'ahsan']\n",
    "# By-default reverse is False ,but when it will be True it will generate elements in the descending order..\n",
    "friends.sort(reverse=True)\n",
    "print(friends)"
   ]
  },
  {
   "cell_type": "markdown",
   "metadata": {},
   "source": [
    "# Reverse"
   ]
  },
  {
   "cell_type": "markdown",
   "metadata": {},
   "source": [
    "###### Python's built-in reversed() function allows you to create a reverse iterator for an existing list or sequence object. \n",
    "###### This is a flexible and clean solution that relies on some advanced Python features—but \n",
    "###### it remains readable due to the clear naming of the reversed() function."
   ]
  },
  {
   "cell_type": "code",
   "execution_count": 23,
   "metadata": {},
   "outputs": [
    {
     "name": "stdout",
     "output_type": "stream",
     "text": [
      "['bmw', 'audi', 'toyota', 'subaru']\n",
      "['subaru', 'toyota', 'audi', 'bmw']\n"
     ]
    }
   ],
   "source": [
    "cars = ['bmw', 'audi', 'toyota', 'subaru']\n",
    "print(cars)\n",
    "cars.reverse()\n",
    "print(cars)"
   ]
  },
  {
   "cell_type": "markdown",
   "metadata": {},
   "source": [
    "# Concatenate list into list"
   ]
  },
  {
   "cell_type": "code",
   "execution_count": 24,
   "metadata": {},
   "outputs": [
    {
     "name": "stdout",
     "output_type": "stream",
     "text": [
      "['Atlanta', 'Baltimore', 'Chicago', 'Denver', 'Los Angeles', 'Seattle', 'New York', 'Dubuque', 'New Orleans']\n"
     ]
    }
   ],
   "source": [
    "cities = cities + [\"Dubuque\", \"New Orleans\"]\n",
    "print(cities)"
   ]
  },
  {
   "cell_type": "markdown",
   "metadata": {},
   "source": [
    "## Concatenate empty list into list"
   ]
  },
  {
   "cell_type": "code",
   "execution_count": 25,
   "metadata": {},
   "outputs": [
    {
     "name": "stdout",
     "output_type": "stream",
     "text": [
      "['Walk dog', 'Buy groceries']\n"
     ]
    }
   ],
   "source": [
    "todays_tasks = []\n",
    "todays_tasks = todays_tasks + [\"Walk dog\", \"Buy groceries\"]\n",
    "print(todays_tasks)"
   ]
  },
  {
   "cell_type": "markdown",
   "metadata": {},
   "source": [
    "# Slicing a list"
   ]
  },
  {
   "cell_type": "markdown",
   "metadata": {},
   "source": [
    "###### Lists have a default bit of functionality when slicing. \n",
    "###### If there is no value before the first colon, it means to start at the beginning index of the list. \n",
    "###### If there isn't a value after the first colon, it means to go all the way to the end of the list."
   ]
  },
  {
   "cell_type": "code",
   "execution_count": 26,
   "metadata": {},
   "outputs": [
    {
     "name": "stdout",
     "output_type": "stream",
     "text": [
      "['afridi', 'misbah', 'malik']\n"
     ]
    }
   ],
   "source": [
    "players = ['afridi', 'misbah', 'malik', 'amir', 'ajmal']\n",
    "print(players[0:3])"
   ]
  },
  {
   "cell_type": "code",
   "execution_count": 27,
   "metadata": {},
   "outputs": [
    {
     "name": "stdout",
     "output_type": "stream",
     "text": [
      "['martina', 'michael', 'florence', 'eli']\n"
     ]
    }
   ],
   "source": [
    "players = ['charles', 'martina', 'michael', 'florence', 'eli']\n",
    "print(players[1:6])"
   ]
  },
  {
   "cell_type": "code",
   "execution_count": 28,
   "metadata": {},
   "outputs": [
    {
     "name": "stdout",
     "output_type": "stream",
     "text": [
      "['charles', 'martina', 'dukky', 'chris']\n"
     ]
    }
   ],
   "source": [
    "players = ['charles', 'martina', 'dukky', 'chris', 'Rika']\n",
    "print(players[:4])"
   ]
  },
  {
   "cell_type": "code",
   "execution_count": 29,
   "metadata": {},
   "outputs": [
    {
     "name": "stdout",
     "output_type": "stream",
     "text": [
      "['michael', 'florence', 'eli']\n"
     ]
    }
   ],
   "source": [
    "players = ['charles', 'martina', 'michael', 'florence', 'eli']\n",
    "print(players[2:])\n"
   ]
  },
  {
   "cell_type": "code",
   "execution_count": 30,
   "metadata": {},
   "outputs": [
    {
     "name": "stdout",
     "output_type": "stream",
     "text": [
      "['michael', 'florence', 'eli']\n"
     ]
    }
   ],
   "source": [
    "players = ['charles', 'martina', 'michael', 'florence', 'eli']\n",
    "print(players[-3:])"
   ]
  },
  {
   "cell_type": "markdown",
   "metadata": {},
   "source": [
    "# IF AND ELSE"
   ]
  },
  {
   "cell_type": "code",
   "execution_count": 31,
   "metadata": {},
   "outputs": [
    {
     "name": "stdout",
     "output_type": "stream",
     "text": [
      "Enter your name : ali\n",
      "NO\n"
     ]
    }
   ],
   "source": [
    "name = input(\"Enter your name : \").upper()\n",
    "if name == 'SHAHZAD':\n",
    "    print('Your name is ' + name)\n",
    "else:\n",
    "    print(\"NO\")"
   ]
  },
  {
   "cell_type": "code",
   "execution_count": 32,
   "metadata": {},
   "outputs": [
    {
     "name": "stdout",
     "output_type": "stream",
     "text": [
      "How many pounds does your suitcase weigh? 54\n",
      "There is a $25 charge for luggage that heavy.\n",
      "Thank you for your business.\n"
     ]
    }
   ],
   "source": [
    "weight = float(input(\"How many pounds does your suitcase weigh? \"))\n",
    "if weight > 50:\n",
    "    print(\"There is a $25 charge for luggage that heavy.\")\n",
    "    \n",
    "print(\"Thank you for your business.\")"
   ]
  },
  {
   "cell_type": "code",
   "execution_count": 33,
   "metadata": {},
   "outputs": [
    {
     "name": "stdout",
     "output_type": "stream",
     "text": [
      "What is the temperature? 78\n",
      "Wear shorts.\n"
     ]
    }
   ],
   "source": [
    "temperature = float(input('What is the temperature? '))\n",
    "if temperature >= 70:\n",
    "    print('Wear shorts.')\n",
    "else:\n",
    "    print('Wear long pants.')\n",
    "    "
   ]
  },
  {
   "cell_type": "code",
   "execution_count": 34,
   "metadata": {},
   "outputs": [
    {
     "name": "stdout",
     "output_type": "stream",
     "text": [
      "Enter yours marks out of 100 :2\n",
      "Sorry! You are fail.\n"
     ]
    }
   ],
   "source": [
    "x = float(input(\"Enter yours marks out of 100 :\"))\n",
    "if x >= 90:\n",
    "    print(\"Grade A*\")\n",
    "elif x >= 80:\n",
    "    print('Grade A')\n",
    "elif x >= 70:\n",
    "    print(\"Grade B\")\n",
    "elif x >= 60:\n",
    "    print('Grade C')\n",
    "elif x >= 50:\n",
    "    print('Grade D')\n",
    "else:\n",
    "    print('Sorry! You are fail.')"
   ]
  },
  {
   "cell_type": "markdown",
   "metadata": {},
   "source": [
    "# MARKS SHEET"
   ]
  },
  {
   "cell_type": "code",
   "execution_count": 35,
   "metadata": {},
   "outputs": [
    {
     "name": "stdout",
     "output_type": "stream",
     "text": [
      "\t\t\t\tEnter your English marks: 54\n",
      "\t\t\t\tEnter your Maths marks: 56\n",
      "\t\t\t\tEnter your Urdu marks: 76\n",
      "\t\t\t\tEnter your Science marks: 88\n",
      "\t\t\t\tEnter your Programming marks: 88\n",
      "\n",
      "\t\t\t\t***YOUR TOTAL MARKS ARE 362.0 out of 500***\n",
      "\n",
      "\t\t\t\tYour total marks are: 362.0\n",
      "\t\t\t\tYour percentage is 72.4%\n",
      "\t\t\t\tYour grade is B.\n"
     ]
    }
   ],
   "source": [
    "English = float(input(\"\\t\\t\\t\\tEnter your English marks: \"))\n",
    "Maths = float(input(\"\\t\\t\\t\\tEnter your Maths marks: \"))\n",
    "Urdu = float(input(\"\\t\\t\\t\\tEnter your Urdu marks: \"))\n",
    "Science = float(input(\"\\t\\t\\t\\tEnter your Science marks: \"))\n",
    "Programming = float(input(\"\\t\\t\\t\\tEnter your Programming marks: \"))\n",
    "grade = \" \"\n",
    "\n",
    "total = English + Urdu + Maths + Programming + Science\n",
    "print(\"\\n\\t\\t\\t\\t***YOUR TOTAL MARKS ARE \" + str(total)+ \" out of 500***\")\n",
    "\n",
    "percentage = total / 500 * 100\n",
    "roundOff = round(percentage,2)\n",
    "\n",
    "if percentage >= 90:\n",
    "    grade= \"A+\"\n",
    "    \n",
    "    \n",
    "elif percentage >= 80:\n",
    "    grade = \"A\"\n",
    "    \n",
    "    \n",
    "elif percentage >= 70:\n",
    "    grade = \"B\"\n",
    "    \n",
    "    \n",
    "elif percentage >= 60:\n",
    "    grade = \"C\"\n",
    "    \n",
    "elif percentage >= 50:\n",
    "    grade = \"D\"\n",
    "    \n",
    "    \n",
    "else:\n",
    "    grade = 'F'\n",
    "    print(\"\\t\\t\\t\\tSorry! You can't promote to another class.\")\n",
    "    \n",
    "\n",
    "    \n",
    "print(\"\\n\\t\\t\\t\\tYour total marks are: \" + str(total) + \"\\n\\t\\t\\t\\tYour percentage is \" + str(roundOff) + \"%\\n\\t\\t\\t\\tYour grade is \" + str(grade) +\".\")\n"
   ]
  },
  {
   "cell_type": "markdown",
   "metadata": {},
   "source": [
    "# ROUND OFF"
   ]
  },
  {
   "cell_type": "code",
   "execution_count": 36,
   "metadata": {},
   "outputs": [
    {
     "name": "stdout",
     "output_type": "stream",
     "text": [
      "245.531\n",
      "245.5\n",
      "245.53\n"
     ]
    }
   ],
   "source": [
    "a = 34.001\n",
    "b = 56.45\n",
    "c = 78.21\n",
    "d = 76.87\n",
    "total = a+b+c+d\n",
    "print(total)\n",
    "print(round(total , 1))\n",
    "print(round(total , 2))"
   ]
  },
  {
   "cell_type": "markdown",
   "metadata": {},
   "source": [
    "# CHECKING CONDITIONS"
   ]
  },
  {
   "cell_type": "markdown",
   "metadata": {},
   "source": [
    "###### Make a program to go for PSL final. That accepts Permission , tickets and age as user input.\n",
    "###### If age is greater then 18 and have his wife permission and has a tickets.Print a statment \"you will be allow for the match...\" , \n",
    "###### otherwise print a statment \"You are not allowed for the match...\""
   ]
  },
  {
   "cell_type": "code",
   "execution_count": 37,
   "metadata": {},
   "outputs": [
    {
     "name": "stdout",
     "output_type": "stream",
     "text": [
      "Ask from your wife.\n",
      "Is she allow you to go stadium? [Y/N] y\n",
      "Do you have tickets: [Y/N] n\n",
      "Enter your age: 67\n",
      "\n",
      "You are not allowed...\n",
      "Go to home and watch TV..\n"
     ]
    }
   ],
   "source": [
    "permission = input(\"Ask from your wife.\\nIs she allow you to go stadium? [Y/N] \").upper()\n",
    "tickets = input(\"Do you have tickets: [Y/N] \").upper()\n",
    "age = int(input(\"Enter your age: \"))\n",
    "\n",
    "if age >= 18 and permission == \"Y\" and tickets == \"Y\":\n",
    "    print(\"\\nYou are allow for the match\")\n",
    "    \n",
    "else:\n",
    "    print(\"\\nYou are not allowed...\\nGo to home and watch TV..\")"
   ]
  },
  {
   "cell_type": "markdown",
   "metadata": {},
   "source": [
    "###### Make a program for vote casting that takes input from the user his age , if age is greater then 18 then it will ask,\n",
    "###### Do you have CNIC , and which city you belongs to if CNIC is yes and city is not equal to Lahore. \n",
    "###### Print an Statment \"Go and Cast your vote\".\n",
    "###### if age is less then 18 ,  print \"You are not allowed\".."
   ]
  },
  {
   "cell_type": "code",
   "execution_count": 38,
   "metadata": {},
   "outputs": [
    {
     "name": "stdout",
     "output_type": "stream",
     "text": [
      "\t**CASTING VOTE**\n",
      "Enter your age: 88\n",
      "Do you have your ID card with you right now? [y/n]y\n",
      "Please Enter your city name here: karachi\n",
      "\n",
      "Go and cast your vote.\n",
      "Hope for your positive response.\n"
     ]
    }
   ],
   "source": [
    "print(\"\\t**CASTING VOTE**\")\n",
    "age = int(input(\"Enter your age: \"))\n",
    "remaingAge = 18 - age\n",
    "if age >= 18:\n",
    "    cnic = input(\"Do you have your ID card with you right now? [y/n]\")\n",
    "    city = input(\"Please Enter your city name here: \")\n",
    "    if cnic == 'y' or city != 'lahore':\n",
    "        print(\"\\nGo and cast your vote.\\nHope for your positive response.\")\n",
    "    else: \n",
    "        print(\"Sorry! you are not allowed to cast your vote here.\")\n",
    "else:\n",
    "    print(\"You are under age.\")\n",
    "    print(\"You will be allowed after \" + str(remaingAge) + \" years.\")\n"
   ]
  },
  {
   "cell_type": "code",
   "execution_count": 39,
   "metadata": {},
   "outputs": [
    {
     "name": "stdout",
     "output_type": "stream",
     "text": [
      "Enter your gender: male\n",
      "Enter your age : 12\n",
      "Do you have your cnic: [y/n] y\n",
      "Enter your city name: karachi\n",
      "\n",
      "You can go now!! \n"
     ]
    }
   ],
   "source": [
    "gender = input(\"Enter your gender: \")\n",
    "age = int(input(\"Enter your age : \"))\n",
    "cnic = input(\"Do you have your cnic: [y/n] \")\n",
    "city = input(\"Enter your city name: \")\n",
    "\n",
    "if (gender == 'male' or age >= 18) and (cnic == 'y' or city == 'karachi'):\n",
    "    print(\"\\nYou can go now!! \")\n",
    "else:\n",
    "    print(\"\\nWe are sorry.You are not allowed.\")"
   ]
  },
  {
   "cell_type": "code",
   "execution_count": null,
   "metadata": {},
   "outputs": [],
   "source": []
  }
 ],
 "metadata": {
  "kernelspec": {
   "display_name": "Python 3",
   "language": "python",
   "name": "python3"
  },
  "language_info": {
   "codemirror_mode": {
    "name": "ipython",
    "version": 3
   },
   "file_extension": ".py",
   "mimetype": "text/x-python",
   "name": "python",
   "nbconvert_exporter": "python",
   "pygments_lexer": "ipython3",
   "version": "3.7.3"
  }
 },
 "nbformat": 4,
 "nbformat_minor": 2
}
