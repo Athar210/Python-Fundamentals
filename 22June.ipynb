{
 "cells": [
  {
   "cell_type": "code",
   "execution_count": 5,
   "metadata": {},
   "outputs": [
    {
     "name": "stdout",
     "output_type": "stream",
     "text": [
      "24\n"
     ]
    }
   ],
   "source": [
    "def cal(a,b):\n",
    "    c = a * b\n",
    "    return c\n",
    "a1 = cal(3,8)\n",
    "print(a1)"
   ]
  },
  {
   "cell_type": "code",
   "execution_count": 10,
   "metadata": {},
   "outputs": [
    {
     "name": "stdout",
     "output_type": "stream",
     "text": [
      "10\n"
     ]
    }
   ],
   "source": [
    "def peepee(friends):\n",
    "    for friend in friends:\n",
    "        a = \"hello \" + friend.title()\n",
    "print(a)\n",
    "user = [\"athar\" , \"bilal\" , \" sami \" , \" sarfaraz\"]\n",
    "peepee(user)"
   ]
  },
  {
   "cell_type": "code",
   "execution_count": 11,
   "metadata": {},
   "outputs": [
    {
     "name": "stdout",
     "output_type": "stream",
     "text": [
      "my name is BILAL MALIK my papa name is ATHAR RASOOL \n"
     ]
    }
   ],
   "source": [
    "# KEYWORD PARAMETER\n",
    "def family(me,papa):\n",
    "    print(f\"my name is {me} my papa name is {papa}\")\n",
    "\n",
    "family(papa = \"ATHAR RASOOL \",me = \"BILAL MALIK\") # AAGY PECHE DE DO PARAMETERS LEKN APNI JAGA AEGA"
   ]
  },
  {
   "cell_type": "code",
   "execution_count": 35,
   "metadata": {},
   "outputs": [
    {
     "name": "stdout",
     "output_type": "stream",
     "text": [
      "my name is ATHAR RASOOL my age is 18 my sex is MALE\n"
     ]
    }
   ],
   "source": [
    "def name(name,age,gender):\n",
    "    print(f\"my name is {name} my age is {age} my sex is {gender}\")\n",
    "name(age=\"18\", name=\"ATHAR RASOOL\",gender=\"MALE\")"
   ]
  },
  {
   "cell_type": "code",
   "execution_count": 39,
   "metadata": {},
   "outputs": [
    {
     "name": "stdout",
     "output_type": "stream",
     "text": [
      "my name is sarfaraz my father name liaquat and my age is 18\n"
     ]
    }
   ],
   "source": [
    "def name(name,fname,age):\n",
    "    print(f\"my name is {name} my father name {fname} and my age is {age}\")\n",
    "name(age=\"18\", fname=\"liaquat\" ,name=\"sarfaraz\")"
   ]
  },
  {
   "cell_type": "code",
   "execution_count": 47,
   "metadata": {},
   "outputs": [
    {
     "name": "stdout",
     "output_type": "stream",
     "text": [
      "mera ghr gulshan mn hai\n",
      "meri gaadi toyta hai\n",
      "mere pas paisa phooti kauri hai\n"
     ]
    }
   ],
   "source": [
    "def things(ghar,gadi=\"alto\",paisa=\"phooti kauri\"):\n",
    "    print(f\"mera ghr {ghar} mn hai\")\n",
    "    print(f\"meri gaadi {gadi} hai\")\n",
    "    print(f\"mere pas paisa {paisa} hai\")\n",
    "\n",
    "things(\"gulshan\",\"toyta\") #overwrite krdega position k hisaab sy"
   ]
  },
  {
   "cell_type": "code",
   "execution_count": 51,
   "metadata": {},
   "outputs": [
    {
     "name": "stdout",
     "output_type": "stream",
     "text": [
      "mera ghr b-195 mn hai\n",
      "meri gaadi Ferrari hai\n",
      "mere pas paisa Boht hai\n"
     ]
    }
   ],
   "source": [
    "def things(ghar,gadi=\"Audi\",paisa=\"phooti kauri\"):\n",
    "    print(f\"mera ghr {ghar} mn hai\")\n",
    "    print(f\"meri gaadi {gadi} hai\")\n",
    "    print(f\"mere pas paisa {paisa} hai\")\n",
    "\n",
    "things(\"b-195\",\"Ferrari\",\"Boht\") #   overwrite krdega position k hisaab sy aur position k hisaab sy over right krwana hai \n",
    "                                 #   warna keyword parameter sy krwao"
   ]
  },
  {
   "cell_type": "code",
   "execution_count": 58,
   "metadata": {},
   "outputs": [
    {
     "name": "stdout",
     "output_type": "stream",
     "text": [
      " my school was IDEAL PUBLIC SCHOOL \n",
      " my college was GOVT DEGREE COLLEGE \n",
      " my uni Is PAF KIET \n"
     ]
    }
   ],
   "source": [
    "def education(school,college,uni=\"PAF KIET\"):\n",
    "    print(f\" my school was {school} \")\n",
    "    print(f\" my college was {college} \")\n",
    "    print(f\" my uni Is {uni} \") #default end mn aega parameters mn!!!!\n",
    "education(\"IDEAL PUBLIC SCHOOL\", \"GOVT DEGREE COLLEGE\")"
   ]
  },
  {
   "cell_type": "code",
   "execution_count": 56,
   "metadata": {},
   "outputs": [
    {
     "name": "stdout",
     "output_type": "stream",
     "text": [
      "1 2 3 (4, 5, 6, 7, 8)\n"
     ]
    }
   ],
   "source": [
    "def func1(a,b,c,*d): #limitations sy zyada value ae to tuple mn save krta jaega\n",
    "    print(a,b,c,d)   # d mn extra values save krwa dega ( iska matlb usse tuple bana k extra values save krwao)\n",
    "func1(1,2,3,4,5,6,7,8)\n"
   ]
  },
  {
   "cell_type": "code",
   "execution_count": 2,
   "metadata": {},
   "outputs": [
    {
     "name": "stdout",
     "output_type": "stream",
     "text": [
      "my name is athar rasool baloch\n"
     ]
    }
   ],
   "source": [
    "def name(nf,nl,nm=\" \"):\n",
    "    print(f\"my name is {nf} {nm} {nl}\")\n",
    "name(\"athar\",\"baloch\",\"rasool\") # ==========> middle name dunga to aega warna ni aega"
   ]
  },
  {
   "cell_type": "markdown",
   "metadata": {},
   "source": [
    "# using functions as variables!!!\n",
    "# which is what they really want!!"
   ]
  },
  {
   "cell_type": "code",
   "execution_count": 83,
   "metadata": {},
   "outputs": [],
   "source": [
    "def commission(commission):\n",
    "    return commission\n",
    "def basic(basic):\n",
    "    return basic"
   ]
  },
  {
   "cell_type": "code",
   "execution_count": 102,
   "metadata": {},
   "outputs": [
    {
     "name": "stdout",
     "output_type": "stream",
     "text": [
      "11000\n"
     ]
    }
   ],
   "source": [
    "gross =  commission(1000)+basic(10000)\n",
    "print(gross)   # USING AS VARIABLES!!!!\n"
   ]
  },
  {
   "cell_type": "code",
   "execution_count": 95,
   "metadata": {},
   "outputs": [],
   "source": [
    "def name(name1,name2):\n",
    "    name1 = input(\"enter fucking name!\")\n",
    "    name2 = input(\"enter fucking last name!\")\n",
    "    return name1+name2"
   ]
  },
  {
   "cell_type": "code",
   "execution_count": 4,
   "metadata": {},
   "outputs": [
    {
     "name": "stdout",
     "output_type": "stream",
     "text": [
      "total paid amount is 18000.0\n"
     ]
    }
   ],
   "source": [
    "# LOCAL VARIABLES VS GLOBAL\n",
    "totalpay=0\n",
    "def commissioncal(salevalue):\n",
    "    if salevalue>10000:\n",
    "        global percent \n",
    "        percent=20 \n",
    "        commission = salevalue/100*percent\n",
    "        return commission\n",
    "def paid(basic):\n",
    "    totalpay = basic + commissioncal(15000)\n",
    "    return totalpay\n",
    "print(f\"total paid amount is {paid(15000)}\")\n"
   ]
  },
  {
   "cell_type": "markdown",
   "metadata": {},
   "source": [
    "# WHILE LOOP!!!\n"
   ]
  },
  {
   "cell_type": "code",
   "execution_count": null,
   "metadata": {},
   "outputs": [],
   "source": [
    "a =1 \n",
    "while a<10:\n",
    "    print(a)\n",
    "    a+=1"
   ]
  },
  {
   "cell_type": "code",
   "execution_count": null,
   "metadata": {
    "scrolled": true
   },
   "outputs": [
    {
     "name": "stdout",
     "output_type": "stream",
     "text": [
      "Enter name: athar\n",
      "your name is athar\n",
      "Enter name: athar\n",
      "your name is athar\n"
     ]
    }
   ],
   "source": [
    "for a in range(10):\n",
    "    a = input(\"Enter name: \")\n",
    "    print(f\"your name is {a}\")"
   ]
  },
  {
   "cell_type": "code",
   "execution_count": 3,
   "metadata": {},
   "outputs": [
    {
     "name": "stdout",
     "output_type": "stream",
     "text": [
      "What is your name: bilal\n",
      "Welcome bilal\n",
      "What is your name: Bilal\n",
      "Welcome Bilal\n"
     ]
    }
   ],
   "source": [
    "flag = True\n",
    "while flag:\n",
    "    name = input(\"What is your name: \")\n",
    "    print(f\"Welcome {name}\")\n",
    "    if name == \"Bilal\":\n",
    "        flag = False"
   ]
  },
  {
   "cell_type": "code",
   "execution_count": null,
   "metadata": {},
   "outputs": [],
   "source": [
    "for a in range(10):\n",
    "    a = input(\"Enter name: \")\n",
    "    print(f\"your name is {a}\")"
   ]
  },
  {
   "cell_type": "code",
   "execution_count": null,
   "metadata": {},
   "outputs": [],
   "source": [
    "ss = (\"\\n Please enter the name of a city you have visited: \")\n",
    "ss += \"\\n() Enter quit when you are finished :) \"\n",
    "while(True):\n",
    "    city = input(ss)\n",
    "    if city == \"quit\":\n",
    "        break\n",
    "    else:\n",
    "        print(f\"I  would love to go with you {city}\")"
   ]
  },
  {
   "cell_type": "code",
   "execution_count": null,
   "metadata": {},
   "outputs": [],
   "source": [
    "prompt = (\" Enter toppings \")\n",
    "while(True):\n",
    "    toppings = input(prompt)\n",
    "    if toppings == \"quit\":\n",
    "        break\n",
    "    else:\n",
    "        print(f\"{toppings} added!!\")"
   ]
  },
  {
   "cell_type": "code",
   "execution_count": null,
   "metadata": {},
   "outputs": [],
   "source": [
    "                                                    "
   ]
  },
  {
   "cell_type": "code",
   "execution_count": null,
   "metadata": {},
   "outputs": [],
   "source": [
    "        \n",
    "    "
   ]
  },
  {
   "cell_type": "code",
   "execution_count": null,
   "metadata": {},
   "outputs": [],
   "source": [
    "                                    "
   ]
  }
 ],
 "metadata": {
  "kernelspec": {
   "display_name": "Python 3",
   "language": "python",
   "name": "python3"
  },
  "language_info": {
   "codemirror_mode": {
    "name": "ipython",
    "version": 3
   },
   "file_extension": ".py",
   "mimetype": "text/x-python",
   "name": "python",
   "nbconvert_exporter": "python",
   "pygments_lexer": "ipython3",
   "version": "3.7.3"
  }
 },
 "nbformat": 4,
 "nbformat_minor": 2
}
