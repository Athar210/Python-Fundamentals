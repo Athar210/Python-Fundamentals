{
 "cells": [
  {
   "cell_type": "code",
   "execution_count": null,
   "metadata": {},
   "outputs": [],
   "source": [
    "# 1. Below are a set of scores that students have received in the past semester.\n",
    "# Write code to determine how many are 90 or above and assign that result to the value a_scores.\n",
    "\n",
    "scores = \"67 80 90 78 93 20 79 89 96 97 92 88 79 68 58 90 98 100 79 74 83 88 80 86 85 70 90 100\""
   ]
  },
  {
   "cell_type": "code",
   "execution_count": null,
   "metadata": {},
   "outputs": [],
   "source": [
    "# 2. Write code that uses the string stored in org and creates an acronym which is assigned to the variable acro.\n",
    "# Only the first letter of each word should be used, each letter in the acronym should be a capital letter, and there should be nothing to separate the letters of the acronym.\n",
    "# Words that should not be included in the acronym are stored in the list stopwords. \n",
    "# For example, if org was assigned the string “hello to world” then the resulting acronym should be “HW”.\n",
    "\n",
    "stopwords = ['to', 'a', 'for', 'by', 'an', 'am', 'the', 'so', 'it', 'and', \"The\"]\n",
    "org = \"The organization for health, safety, and education\""
   ]
  },
  {
   "cell_type": "code",
   "execution_count": null,
   "metadata": {},
   "outputs": [],
   "source": [
    "# 3. Write code that uses the string stored in sent and creates an acronym which is assigned to the variable acro.\n",
    "# The first two letters of each word should be used, each letter in the acronym should be a capital letter, and each element of the acronym should be separated by a “. ” (dot and space).\n",
    "# Words that should not be included in the acronym are stored in the list stopwords.\n",
    "# For example, if sent was assigned the string “height and ewok wonder” then the resulting acronym should be “HE. EW. WO”.\n",
    "\n",
    "stopwords = ['to', 'a', 'for', 'by', 'an', 'am', 'the', 'so', 'it', 'and', 'The']\n",
    "sent = \"The water earth and air are vital\""
   ]
  },
  {
   "cell_type": "code",
   "execution_count": null,
   "metadata": {},
   "outputs": [],
   "source": [
    "# 4. A palindrome is a phrase that, if reversed, would read the exact same.\n",
    "# Write code that checks if p_phrase is a palindrome by reversing it and then checking if the reversed version is equal to the original.\n",
    "# Assign the reversed version of p_phrase to the variable r_phrase so that we can check your work.\n",
    "\n",
    "p_phrase = \"was it a car or a cat I saw\""
   ]
  },
  {
   "cell_type": "code",
   "execution_count": null,
   "metadata": {},
   "outputs": [],
   "source": [
    "# 5. Provided is a list of data about a store’s inventory where each item in the list represents the name of an item, how much is in stock, and how much it costs.\n",
    "# Print out each item in the list with the same formatting, using the .format method (not string concatenation).\n",
    "# For example, the first print statment should read The store has 12 shoes, each for 29.99 USD.\n",
    "\n",
    "inventory = [\"shoes, 12, 29.99\", \"shirts, 20, 9.99\", \"sweatpants, 25, 15.00\", \"scarves, 13, 7.75\"]"
   ]
  },
  {
   "cell_type": "code",
   "execution_count": null,
   "metadata": {},
   "outputs": [],
   "source": [
    "# 6. For each string in wrds, add ‘ed’ to the end of the word (to make the word past tense).\n",
    "# Save these past tense words to a list called past_wrds.\n",
    "\n",
    "wrds = [\"end\", 'work', \"play\", \"start\", \"walk\", \"look\", \"open\", \"rain\", \"learn\", \"clean\"]"
   ]
  },
  {
   "cell_type": "code",
   "execution_count": null,
   "metadata": {},
   "outputs": [],
   "source": [
    "# 7. Write a function, test, that takes in three parameters: a required integer,\n",
    "# an optional boolean whose default value is True, and an optional dictionary,\n",
    "# called dict1, whose default value is {2:3, 4:5, 6:8}. If the boolean parameter is True,\n",
    "# the function should test to see if the integer is a key in the dictionary.\n",
    "# The value of that key should then be returned. If the boolean parameter is False, return the boolean value “False”.\n"
   ]
  },
  {
   "cell_type": "code",
   "execution_count": null,
   "metadata": {},
   "outputs": [],
   "source": [
    "# 8. Write a function called checkingIfIn that takes three parameters.\n",
    "# The first is a required parameter, which should be a string.\n",
    "# The second is an optional parameter called direction with a default value of True.\n",
    "# The third is an optional parameter called d that has a default value of\n",
    "# {'apple': 2, 'pear': 1, 'fruit': 19, 'orange': 5, 'banana': 3, 'grapes': 2, 'watermelon': 7}.\n",
    "# Write the function checkingIfIn so that when the second parameter is True,\n",
    "# it checks to see if the first parameter is a key in the third parameter;\n",
    "# if it is, return True, otherwise return False.\n",
    "\n",
    "# But if the second paramter is False, then the function should check to see if the first parameter is not a key of the third.'\n",
    "# If it’s not, the function should return True in this case, and if it is, it should return False."
   ]
  },
  {
   "cell_type": "code",
   "execution_count": null,
   "metadata": {},
   "outputs": [],
   "source": [
    "# 9. The textfile, travel_plans.txt, contains the summer travel plans for someone with some commentary.\n",
    "# Find the total number of characters in the file and save to the variable num."
   ]
  },
  {
   "cell_type": "code",
   "execution_count": null,
   "metadata": {},
   "outputs": [],
   "source": [
    "#10. Write code that will count the number of vowels in the sentence s and assign the result to the variable num_vowels.\n",
    "# For this problem, vowels are only a, e, i, o, and u. Hint: use the in operator with vowels.\n",
    "\n",
    "s = \"singing in the rain and playing in the rain are two entirely different situations but both can be fun\"\n",
    "vowels = ['a','e','i','o','u']\n",
    "\n",
    "# Write your code here.(Using list comprehension)\n"
   ]
  },
  {
   "cell_type": "code",
   "execution_count": null,
   "metadata": {},
   "outputs": [],
   "source": [
    "#11. rainfall_mi is a string that contains the average number of inches of rainfall in Michigan for every month (in inches) with every month separated by a comma.\n",
    "# Write code to compute the number of months that have more than 3 inches of rainfall.\n",
    "# Store the result in the variable num_rainy_months. In other words, count the number of items with values > 3.0.\n",
    "# Hard-coded answers will receive no credit.\n"
   ]
  },
  {
   "cell_type": "code",
   "execution_count": null,
   "metadata": {},
   "outputs": [],
   "source": [
    "#12. Write code that uses iteration to print out the length of each element of the list stored in str_list.\n",
    "\n",
    "str_list = [\"hello\", \"\", \"goodbye\", \"wonderful\", \"I love Python\"]"
   ]
  },
  {
   "cell_type": "code",
   "execution_count": null,
   "metadata": {},
   "outputs": [],
   "source": [
    "#13. Write one for loop to print out each element of the list several_things.\n",
    "# Then, write another for loop to print out the TYPE of each element of the list several_things.\n",
    "# To complete this problem you should have written two different for loops,\n",
    "# each of which iterates over the list several_things, but each of those 2 for loops should have a different result.\n",
    "\n",
    "several_things = [\"hello\", 2, 4, 6.0, 7.5, 234352354, \"the end\", \"\", 99]"
   ]
  },
  {
   "cell_type": "code",
   "execution_count": null,
   "metadata": {},
   "outputs": [],
   "source": [
    "#14. Given below is a list of lists of athletes.\n",
    "# Create a list, t, that saves only the athlete’s name if it contains the letter “t”.\n",
    "# If it does not contain the letter “t”, save the athlete name into list other.\n",
    "\n",
    "athletes = [\n",
    "    ['Phelps', 'Lochte', 'Schooling', 'Ledecky', 'Franklin'], \n",
    "    ['Felix', 'Bolt', 'Gardner', 'Eaton'], \n",
    "    ['Biles', 'Douglas', 'Hamm', 'Raisman', 'Mikulak', 'Dalton']\n",
    "]"
   ]
  },
  {
   "cell_type": "code",
   "execution_count": null,
   "metadata": {},
   "outputs": [],
   "source": [
    "#15. Below, we have provided a list of tuples that contain students names and their final grades in PYTHON 101.\n",
    "# Using list comprehension, create a new list passed that contains the names of students who passed the class\n",
    "# (had a final grade of 70 or greater).\n",
    "\n",
    "students = [('Tommy', 95), ('Linda', 63), ('Carl', 70), ('Bob', 100), ('Raymond', 50), ('Sue', 75)]"
   ]
  }
 ],
 "metadata": {
  "kernelspec": {
   "display_name": "Python 3",
   "language": "python",
   "name": "python3"
  },
  "language_info": {
   "codemirror_mode": {
    "name": "ipython",
    "version": 3
   },
   "file_extension": ".py",
   "mimetype": "text/x-python",
   "name": "python",
   "nbconvert_exporter": "python",
   "pygments_lexer": "ipython3",
   "version": "3.7.3"
  }
 },
 "nbformat": 4,
 "nbformat_minor": 2
}
