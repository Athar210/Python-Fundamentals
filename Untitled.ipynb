{
 "cells": [
  {
   "cell_type": "code",
   "execution_count": 14,
   "metadata": {},
   "outputs": [
    {
     "name": "stdout",
     "output_type": "stream",
     "text": [
      "my\n",
      "m\n",
      "y\n",
      "name\n",
      "n\n",
      "a\n",
      "m\n",
      "e\n",
      "is\n",
      "i\n",
      "s\n",
      "Athar\n",
      "A\n",
      "t\n",
      "h\n",
      "a\n",
      "r\n"
     ]
    }
   ],
   "source": [
    "for i in \"my name is Athar\".split():\n",
    "    print(i)\n",
    "    for j in i:\n",
    "        print(j)"
   ]
  },
  {
   "cell_type": "code",
   "execution_count": null,
   "metadata": {},
   "outputs": [],
   "source": []
  },
  {
   "cell_type": "code",
   "execution_count": 8,
   "metadata": {},
   "outputs": [
    {
     "name": "stdout",
     "output_type": "stream",
     "text": [
      "F Athar Rasool\n"
     ]
    }
   ],
   "source": [
    "a=False\n",
    "#i=\"Athar Rasool\"\n",
    "while a==True:\n",
    "    print('T')\n",
    "else:\n",
    "    print('F',i)"
   ]
  },
  {
   "cell_type": "code",
   "execution_count": null,
   "metadata": {},
   "outputs": [],
   "source": []
  },
  {
   "cell_type": "code",
   "execution_count": null,
   "metadata": {},
   "outputs": [],
   "source": []
  },
  {
   "cell_type": "code",
   "execution_count": 44,
   "metadata": {},
   "outputs": [
    {
     "name": "stdout",
     "output_type": "stream",
     "text": [
      "*****\n",
      "*****\n",
      "*****\n",
      "*****\n",
      "*****\n",
      "*****\n"
     ]
    }
   ],
   "source": [
    "for i in range(3):\n",
    "        for j in range(2):\n",
    "            print(\"*\"*5)"
   ]
  },
  {
   "cell_type": "code",
   "execution_count": null,
   "metadata": {},
   "outputs": [],
   "source": []
  },
  {
   "cell_type": "code",
   "execution_count": 1,
   "metadata": {},
   "outputs": [],
   "source": [
    "import numpy as np"
   ]
  },
  {
   "cell_type": "code",
   "execution_count": 52,
   "metadata": {},
   "outputs": [
    {
     "data": {
      "text/plain": [
       "array([[ 0,  1,  2,  3],\n",
       "       [ 4,  5,  6,  7],\n",
       "       [ 8,  9, 10, 11],\n",
       "       [12, 13, 14, 15],\n",
       "       [16, 17, 18, 19]])"
      ]
     },
     "execution_count": 52,
     "metadata": {},
     "output_type": "execute_result"
    }
   ],
   "source": [
    "x=np.arange(20).reshape(5,4)\n",
    "x"
   ]
  },
  {
   "cell_type": "code",
   "execution_count": null,
   "metadata": {},
   "outputs": [],
   "source": []
  },
  {
   "cell_type": "code",
   "execution_count": null,
   "metadata": {},
   "outputs": [],
   "source": []
  },
  {
   "cell_type": "code",
   "execution_count": 60,
   "metadata": {},
   "outputs": [],
   "source": [
    "x=np.array([33,434,43,\"sda\",\"dsad\"])"
   ]
  },
  {
   "cell_type": "code",
   "execution_count": null,
   "metadata": {},
   "outputs": [],
   "source": []
  },
  {
   "cell_type": "code",
   "execution_count": 68,
   "metadata": {},
   "outputs": [
    {
     "data": {
      "text/plain": [
       "False"
      ]
     },
     "execution_count": 68,
     "metadata": {},
     "output_type": "execute_result"
    }
   ],
   "source": [
    "x[3]==\"sdf\""
   ]
  },
  {
   "cell_type": "code",
   "execution_count": 69,
   "metadata": {},
   "outputs": [
    {
     "data": {
      "text/plain": [
       "array(['33', '434', '43', 'sda', 'dsad'], dtype='<U11')"
      ]
     },
     "execution_count": 69,
     "metadata": {},
     "output_type": "execute_result"
    }
   ],
   "source": [
    "x"
   ]
  },
  {
   "cell_type": "code",
   "execution_count": 73,
   "metadata": {},
   "outputs": [
    {
     "name": "stdout",
     "output_type": "stream",
     "text": [
      "<class 'list'>\n",
      "<class 'numpy.ndarray'>\n"
     ]
    }
   ],
   "source": [
    "a=[343]\n",
    "\n",
    "print(type(a))\n",
    "print(type(x))"
   ]
  },
  {
   "cell_type": "code",
   "execution_count": 82,
   "metadata": {},
   "outputs": [
    {
     "name": "stdout",
     "output_type": "stream",
     "text": [
      "dsad\n",
      "dsad\n"
     ]
    }
   ],
   "source": [
    "print(x[4])\n",
    "print(np.array([33,434,43,\"sda\",\"dsad\"])[4])"
   ]
  },
  {
   "cell_type": "code",
   "execution_count": 76,
   "metadata": {},
   "outputs": [
    {
     "data": {
      "text/plain": [
       "array(['33', '434', '43', 'sda', 'dsad'], dtype='<U11')"
      ]
     },
     "execution_count": 76,
     "metadata": {},
     "output_type": "execute_result"
    }
   ],
   "source": [
    "x[:]"
   ]
  },
  {
   "cell_type": "code",
   "execution_count": null,
   "metadata": {},
   "outputs": [],
   "source": []
  },
  {
   "cell_type": "code",
   "execution_count": 91,
   "metadata": {},
   "outputs": [
    {
     "data": {
      "text/plain": [
       "array([0, 1, 2, 3])"
      ]
     },
     "execution_count": 91,
     "metadata": {},
     "output_type": "execute_result"
    }
   ],
   "source": [
    "p=range(4)\n",
    "p1=np.arange(4)\n",
    "p1"
   ]
  },
  {
   "cell_type": "code",
   "execution_count": 93,
   "metadata": {},
   "outputs": [
    {
     "data": {
      "text/plain": [
       "numpy.ndarray"
      ]
     },
     "execution_count": 93,
     "metadata": {},
     "output_type": "execute_result"
    }
   ],
   "source": [
    "type(p1)"
   ]
  },
  {
   "cell_type": "code",
   "execution_count": 95,
   "metadata": {},
   "outputs": [],
   "source": [
    "import pandas as pd"
   ]
  },
  {
   "cell_type": "code",
   "execution_count": 106,
   "metadata": {},
   "outputs": [
    {
     "data": {
      "text/html": [
       "<div>\n",
       "<style scoped>\n",
       "    .dataframe tbody tr th:only-of-type {\n",
       "        vertical-align: middle;\n",
       "    }\n",
       "\n",
       "    .dataframe tbody tr th {\n",
       "        vertical-align: top;\n",
       "    }\n",
       "\n",
       "    .dataframe thead th {\n",
       "        text-align: right;\n",
       "    }\n",
       "</style>\n",
       "<table border=\"1\" class=\"dataframe\">\n",
       "  <thead>\n",
       "    <tr style=\"text-align: right;\">\n",
       "      <th></th>\n",
       "      <th>Name</th>\n",
       "      <th>Uni</th>\n",
       "    </tr>\n",
       "  </thead>\n",
       "  <tbody>\n",
       "    <tr>\n",
       "      <th>0</th>\n",
       "      <td>Athar</td>\n",
       "      <td>Kiet</td>\n",
       "    </tr>\n",
       "    <tr>\n",
       "      <th>1</th>\n",
       "      <td>Saad</td>\n",
       "      <td>Kiet</td>\n",
       "    </tr>\n",
       "    <tr>\n",
       "      <th>2</th>\n",
       "      <td>Ashir</td>\n",
       "      <td>Kiet</td>\n",
       "    </tr>\n",
       "    <tr>\n",
       "      <th>3</th>\n",
       "      <td>Asghar</td>\n",
       "      <td>Kiet</td>\n",
       "    </tr>\n",
       "  </tbody>\n",
       "</table>\n",
       "</div>"
      ],
      "text/plain": [
       "     Name   Uni\n",
       "0   Athar  Kiet\n",
       "1    Saad  Kiet\n",
       "2   Ashir  Kiet\n",
       "3  Asghar  Kiet"
      ]
     },
     "execution_count": 106,
     "metadata": {},
     "output_type": "execute_result"
    }
   ],
   "source": [
    "pd.DataFrame({\"Name\":[\"Athar\",\"Saad\",\"Ashir\",\"Asghar\"],\"Uni\":[\"Kiet\",\"Kiet\",\"Kiet\",\"Kiet\"]})"
   ]
  },
  {
   "cell_type": "code",
   "execution_count": 124,
   "metadata": {},
   "outputs": [
    {
     "data": {
      "text/plain": [
       "array([[''],\n",
       "       ['athar '],\n",
       "       ['athar athar '],\n",
       "       ['athar athar athar '],\n",
       "       ['athar athar athar athar '],\n",
       "       ['athar athar athar athar athar ']], dtype='<U30')"
      ]
     },
     "execution_count": 124,
     "metadata": {},
     "output_type": "execute_result"
    }
   ],
   "source": [
    "arr= np.array([[\"athar \"*i] for i in range(6)])\n",
    "arr"
   ]
  },
  {
   "cell_type": "code",
   "execution_count": 144,
   "metadata": {},
   "outputs": [
    {
     "name": "stdout",
     "output_type": "stream",
     "text": [
      "Enter names length: 3\n",
      "\n",
      "enter name 1: saad\n",
      "\n",
      "enter name 2: asghar\n",
      "\n",
      "enter name 3: ashir\n",
      "===============================\n",
      "saad\n",
      "asghar\n",
      "ashir\n"
     ]
    }
   ],
   "source": [
    "n = int(input(\"Enter names length: \"))\n",
    "names = np.array([' ' for i in range(n)],dtype=object)\n",
    "for j in range(len(names)):\n",
    "    print()\n",
    "    names[j]=input(f\"enter name {j+1}: \")\n",
    "print('===============================')\n",
    "for k in names:\n",
    "    print(k)"
   ]
  },
  {
   "cell_type": "code",
   "execution_count": null,
   "metadata": {},
   "outputs": [],
   "source": []
  },
  {
   "cell_type": "code",
   "execution_count": 4,
   "metadata": {},
   "outputs": [
    {
     "name": "stdout",
     "output_type": "stream",
     "text": [
      "Enter array length: 3\n",
      "Enter value of index 0: 1\n",
      "Enter value of index 1: 2\n",
      "Enter value of index 2: 3\n",
      "1 2 3 Enter position where you want to add element 4\n",
      "Enter value of index 5\n",
      "1 2 3 "
     ]
    }
   ],
   "source": [
    "def Insert(LA,N,K,Item):\n",
    "    j=N-1\n",
    "    while(j>=K):\n",
    "        LA[j+1]=La[j]\n",
    "        j=j-1\n",
    "    LA[K]=Item\n",
    "    return N\n",
    "def Array(LA,N):\n",
    "    for i in range(N):\n",
    "        print(LA[i],end=' ')\n",
    "        \n",
    "LA= np.array([0 for i in range(50)])\n",
    "N=int(input(\"Enter array length: \"))\n",
    "for i in range(N):\n",
    "    LA[i]=int(input(f\"Enter value of index {i}: \"))\n",
    "Array(LA,N)\n",
    "K=int(input(\"Enter position where you want to add element \"))\n",
    "Item=int(input(f\"Enter value of index \"))\n",
    "N=Insert(LA,N,K,Item)\n",
    "Array(LA,N)"
   ]
  },
  {
   "cell_type": "code",
   "execution_count": null,
   "metadata": {},
   "outputs": [],
   "source": []
  },
  {
   "cell_type": "code",
   "execution_count": 12,
   "metadata": {},
   "outputs": [],
   "source": [
    "x=np.array([1,2,3,4,5])"
   ]
  },
  {
   "cell_type": "code",
   "execution_count": 13,
   "metadata": {},
   "outputs": [
    {
     "data": {
      "text/plain": [
       "numpy.ndarray"
      ]
     },
     "execution_count": 13,
     "metadata": {},
     "output_type": "execute_result"
    }
   ],
   "source": [
    "type(x)"
   ]
  },
  {
   "cell_type": "code",
   "execution_count": 20,
   "metadata": {},
   "outputs": [],
   "source": [
    "def printt():\n",
    "    for i in range(len(x)):\n",
    "        print(x[i])"
   ]
  },
  {
   "cell_type": "code",
   "execution_count": null,
   "metadata": {},
   "outputs": [],
   "source": []
  },
  {
   "cell_type": "code",
   "execution_count": null,
   "metadata": {},
   "outputs": [],
   "source": []
  },
  {
   "cell_type": "code",
   "execution_count": null,
   "metadata": {},
   "outputs": [],
   "source": []
  },
  {
   "cell_type": "code",
   "execution_count": null,
   "metadata": {},
   "outputs": [],
   "source": []
  },
  {
   "cell_type": "code",
   "execution_count": null,
   "metadata": {},
   "outputs": [],
   "source": []
  },
  {
   "cell_type": "code",
   "execution_count": null,
   "metadata": {},
   "outputs": [],
   "source": []
  },
  {
   "cell_type": "code",
   "execution_count": 21,
   "metadata": {},
   "outputs": [
    {
     "name": "stdout",
     "output_type": "stream",
     "text": [
      "Original array: \n",
      "1\n",
      "2\n",
      "3\n",
      "4\n",
      "5\n",
      "\n",
      "Array after left rotation: \n",
      "5\n",
      "1\n",
      "2\n",
      "3\n",
      "4\n"
     ]
    }
   ],
   "source": [
    "arr = [1, 2, 3, 4, 5];     \n",
    "n = 4;    \n",
    "     \n",
    "\n",
    "print(\"Original array: \");    \n",
    "for i in range(0, len(arr)):    \n",
    "    print(arr[i]),     \n",
    "     \n",
    "\n",
    "for i in range(0, n):    \n",
    "    \n",
    "    first = arr[0];    \n",
    "        \n",
    "    for j in range(0, len(arr)-1):    \n",
    "        arr[j] = arr[j+1];    \n",
    "            \n",
    "    \n",
    "    arr[len(arr)-1] = first;    \n",
    "     \n",
    "print();    \n",
    "     \n",
    "\n",
    "print(\"Array after left rotation: \");    \n",
    "for i in range(0, len(arr)):    \n",
    "    print(arr[i])"
   ]
  },
  {
   "cell_type": "code",
   "execution_count": 22,
   "metadata": {},
   "outputs": [],
   "source": [
    "ar1=[[0 for i in range(5) ]]"
   ]
  },
  {
   "cell_type": "code",
   "execution_count": 23,
   "metadata": {},
   "outputs": [
    {
     "data": {
      "text/plain": [
       "[[0, 0, 0, 0, 0]]"
      ]
     },
     "execution_count": 23,
     "metadata": {},
     "output_type": "execute_result"
    }
   ],
   "source": [
    "ar1"
   ]
  },
  {
   "cell_type": "code",
   "execution_count": null,
   "metadata": {},
   "outputs": [],
   "source": []
  },
  {
   "cell_type": "code",
   "execution_count": 3,
   "metadata": {},
   "outputs": [],
   "source": [
    "x=np.array([[1,2,3],[4,5,6],[7,8,9]])"
   ]
  },
  {
   "cell_type": "code",
   "execution_count": 21,
   "metadata": {},
   "outputs": [
    {
     "name": "stdout",
     "output_type": "stream",
     "text": [
      "1\n",
      "5\n",
      "9\n",
      "[[1 2 3]\n",
      " [4 5 6]\n",
      " [7 8 9]]\n"
     ]
    }
   ],
   "source": [
    "for i in range(len(x)):\n",
    "    print(x[i,i])\n",
    "    i+=1\n",
    "\n",
    "print(x)"
   ]
  },
  {
   "cell_type": "code",
   "execution_count": 25,
   "metadata": {},
   "outputs": [],
   "source": [
    "x=np.arange(3,3)\n",
    "for i in range(len(x)) for j in range():\n",
    "    x[i]=int(input(f\"Enter index {i}\"))"
   ]
  },
  {
   "cell_type": "code",
   "execution_count": null,
   "metadata": {},
   "outputs": [],
   "source": []
  },
  {
   "cell_type": "code",
   "execution_count": null,
   "metadata": {},
   "outputs": [],
   "source": []
  },
  {
   "cell_type": "code",
   "execution_count": 27,
   "metadata": {},
   "outputs": [
    {
     "name": "stdout",
     "output_type": "stream",
     "text": [
      "Tic-Tac-Toe Game Designed By Sourabh Somani\n",
      "Player 1 [X] --- Player 2 [O]\n",
      "\n",
      "\n",
      "\n",
      "Please Wait...\n",
      "   |   |   \n",
      "___|___|___\n",
      "   |   |   \n",
      "___|___|___\n",
      "   |   |   \n",
      "   |   |   \n",
      "Player 1's chance\n",
      "Enter the position between [1-9] where you want to mark : 3\n",
      "   |   | X \n",
      "___|___|___\n",
      "   |   |   \n",
      "___|___|___\n",
      "   |   |   \n",
      "   |   |   \n",
      "Player 2's chance\n",
      "Enter the position between [1-9] where you want to mark : 1\n",
      " O |   | X \n",
      "___|___|___\n",
      "   |   |   \n",
      "___|___|___\n",
      "   |   |   \n",
      "   |   |   \n",
      "Player 1's chance\n",
      "Enter the position between [1-9] where you want to mark : 2\n",
      " O | X | X \n",
      "___|___|___\n",
      "   |   |   \n",
      "___|___|___\n",
      "   |   |   \n",
      "   |   |   \n",
      "Player 2's chance\n",
      "Enter the position between [1-9] where you want to mark : 3\n",
      " O | X | X \n",
      "___|___|___\n",
      "   |   |   \n",
      "___|___|___\n",
      "   |   |   \n",
      "   |   |   \n",
      "Player 2's chance\n",
      "Enter the position between [1-9] where you want to mark : 4\n",
      " O | X | X \n",
      "___|___|___\n",
      " O |   |   \n",
      "___|___|___\n",
      "   |   |   \n",
      "   |   |   \n",
      "Player 1's chance\n",
      "Enter the position between [1-9] where you want to mark : 4\n",
      " O | X | X \n",
      "___|___|___\n",
      " O |   |   \n",
      "___|___|___\n",
      "   |   |   \n",
      "   |   |   \n",
      "Player 1's chance\n",
      "Enter the position between [1-9] where you want to mark : 6\n",
      " O | X | X \n",
      "___|___|___\n",
      " O |   | X \n",
      "___|___|___\n",
      "   |   |   \n",
      "   |   |   \n",
      "Player 2's chance\n",
      "Enter the position between [1-9] where you want to mark : 7\n",
      " O | X | X \n",
      "___|___|___\n",
      " O |   | X \n",
      "___|___|___\n",
      " O |   |   \n",
      "   |   |   \n",
      "Player 2 Won\n"
     ]
    }
   ],
   "source": [
    "import os    \n",
    "import time    \n",
    "    \n",
    "board = [' ',' ',' ',' ',' ',' ',' ',' ',' ',' ']    \n",
    "player = 1    \n",
    "   \n",
    "########win Flags##########    \n",
    "Win = 1    \n",
    "Draw = -1    \n",
    "Running = 0    \n",
    "Stop = 1    \n",
    "###########################    \n",
    "Game = Running    \n",
    "Mark = 'X'    \n",
    "   \n",
    "#This Function Draws Game Board    \n",
    "def DrawBoard():    \n",
    "    print(\" %c | %c | %c \" % (board[1],board[2],board[3]))    \n",
    "    print(\"___|___|___\")    \n",
    "    print(\" %c | %c | %c \" % (board[4],board[5],board[6]))    \n",
    "    print(\"___|___|___\")    \n",
    "    print(\" %c | %c | %c \" % (board[7],board[8],board[9]))    \n",
    "    print(\"   |   |   \")    \n",
    "   \n",
    "#This Function Checks position is empty or not    \n",
    "def CheckPosition(x):    \n",
    "    if(board[x] == ' '):    \n",
    "        return True    \n",
    "    else:    \n",
    "        return False    \n",
    "   \n",
    "#This Function Checks player has won or not    \n",
    "def CheckWin():    \n",
    "    global Game    \n",
    "    #Horizontal winning condition    \n",
    "    if(board[1] == board[2] and board[2] == board[3] and board[1] != ' '):    \n",
    "        Game = Win    \n",
    "    elif(board[4] == board[5] and board[5] == board[6] and board[4] != ' '):    \n",
    "        Game = Win    \n",
    "    elif(board[7] == board[8] and board[8] == board[9] and board[7] != ' '):    \n",
    "        Game = Win    \n",
    "    #Vertical Winning Condition    \n",
    "    elif(board[1] == board[4] and board[4] == board[7] and board[1] != ' '):    \n",
    "        Game = Win    \n",
    "    elif(board[2] == board[5] and board[5] == board[8] and board[2] != ' '):    \n",
    "        Game = Win    \n",
    "    elif(board[3] == board[6] and board[6] == board[9] and board[3] != ' '):    \n",
    "        Game=Win    \n",
    "    #Diagonal Winning Condition    \n",
    "    elif(board[1] == board[5] and board[5] == board[9] and board[5] != ' '):    \n",
    "        Game = Win    \n",
    "    elif(board[3] == board[5] and board[5] == board[7] and board[5] != ' '):    \n",
    "        Game=Win    \n",
    "    #Match Tie or Draw Condition    \n",
    "    elif(board[1]!=' ' and board[2]!=' ' and board[3]!=' ' and board[4]!=' ' and board[5]!=' ' and board[6]!=' ' and board[7]!=' ' and board[8]!=' ' and board[9]!=' '):    \n",
    "        Game=Draw    \n",
    "    else:            \n",
    "        Game=Running    \n",
    "    \n",
    "print(\"Tic-Tac-Toe Game Designed By Sourabh Somani\")    \n",
    "print(\"Player 1 [X] --- Player 2 [O]\\n\")    \n",
    "print()    \n",
    "print()    \n",
    "print(\"Please Wait...\")    \n",
    "time.sleep(3)    \n",
    "while(Game == Running):    \n",
    "    os.system('cls')    \n",
    "    DrawBoard()    \n",
    "    if(player % 2 != 0):    \n",
    "        print(\"Player 1's chance\")    \n",
    "        Mark = 'X'    \n",
    "    else:    \n",
    "        print(\"Player 2's chance\")    \n",
    "        Mark = 'O'    \n",
    "    choice = int(input(\"Enter the position between [1-9] where you want to mark : \"))    \n",
    "    if(CheckPosition(choice)):    \n",
    "        board[choice] = Mark    \n",
    "        player+=1    \n",
    "        CheckWin()    \n",
    "    \n",
    "os.system('cls')    \n",
    "DrawBoard()    \n",
    "if(Game==Draw):    \n",
    "    print(\"Game Draw\")    \n",
    "elif(Game==Win):    \n",
    "    player-=1    \n",
    "    if(player%2!=0):    \n",
    "        print(\"Player 1 Won\")    \n",
    "    else:    \n",
    "        print(\"Player 2 Won\")    "
   ]
  },
  {
   "cell_type": "code",
   "execution_count": null,
   "metadata": {},
   "outputs": [],
   "source": []
  },
  {
   "cell_type": "code",
   "execution_count": null,
   "metadata": {},
   "outputs": [],
   "source": []
  },
  {
   "cell_type": "code",
   "execution_count": null,
   "metadata": {},
   "outputs": [],
   "source": []
  },
  {
   "cell_type": "code",
   "execution_count": 1,
   "metadata": {},
   "outputs": [],
   "source": [
    "import numpy as np"
   ]
  },
  {
   "cell_type": "code",
   "execution_count": 2,
   "metadata": {},
   "outputs": [
    {
     "name": "stdout",
     "output_type": "stream",
     "text": [
      "Enter team 1 player1 name: saad\n",
      "Enter team 1 player2 name: saad\n",
      "Enter team 1 player3 name: saad\n",
      "Enter team 2 player1 name: saad\n",
      "Enter team 2 player2 name: saad\n",
      "Enter team 2 player3 name: saad\n",
      "team 1 players name: \n",
      "saad saad saad team 2 players name: \n",
      "saad saad saad "
     ]
    }
   ],
   "source": [
    "player=np.array([[\" \" for i in range(3)] for j in range(2)],dtype=object)\n",
    "for i in range(len(player)):\n",
    "    for j in range(len(player[i])):\n",
    "        player[i,j]=input(f\"Enter team {i+1} player{j+1} name: \")\n",
    "for i in range(len(player)):\n",
    "    print(f\"team {i+1} players name: \")\n",
    "    for j in range(len(player[i])):\n",
    "        print(player[i,j],end=\" \")"
   ]
  },
  {
   "cell_type": "code",
   "execution_count": 10,
   "metadata": {},
   "outputs": [
    {
     "name": "stdout",
     "output_type": "stream",
     "text": [
      "[[[0 0 0]\n",
      "  [0 0 0]\n",
      "  [0 0 0]\n",
      "  [0 0 0]]\n",
      "\n",
      " [[0 0 0]\n",
      "  [0 0 0]\n",
      "  [0 0 0]\n",
      "  [0 0 0]]\n",
      "\n",
      " [[0 0 0]\n",
      "  [0 0 0]\n",
      "  [0 0 0]\n",
      "  [0 0 0]]\n",
      "\n",
      " [[0 0 0]\n",
      "  [0 0 0]\n",
      "  [0 0 0]\n",
      "  [0 0 0]]\n",
      "\n",
      " [[0 0 0]\n",
      "  [0 0 0]\n",
      "  [0 0 0]\n",
      "  [0 0 0]]]\n"
     ]
    }
   ],
   "source": [
    "d3=np.array([[[ 0 for i in range(3)] for j in range(4)] for k in range(5)])\n",
    "print(d3)"
   ]
  },
  {
   "cell_type": "code",
   "execution_count": 17,
   "metadata": {},
   "outputs": [
    {
     "name": "stdout",
     "output_type": "stream",
     "text": [
      "5\n"
     ]
    }
   ],
   "source": [
    "numbers = np.array([\n",
    "                        [\n",
    "                            [1,1],\n",
    "                            [2,2],\n",
    "                            [3,3],\n",
    "                                \n",
    "                        ],\n",
    "                        [\n",
    "                            [4,4],\n",
    "                            [5,5],\n",
    "                            [6,6],\n",
    "                                \n",
    "                        ]\n",
    "])\n",
    "print(numbers[1,1,0])"
   ]
  },
  {
   "cell_type": "code",
   "execution_count": 23,
   "metadata": {},
   "outputs": [
    {
     "name": "stdout",
     "output_type": "stream",
     "text": [
      "0 0 0 \n",
      "0 0 0 \n",
      "0 0 0 \n",
      "0 0 0 \n",
      "\n",
      "0 0 0 \n",
      "0 0 0 \n",
      "0 0 0 \n",
      "0 0 0 \n",
      "\n",
      "0 0 0 \n",
      "0 0 0 \n",
      "0 0 0 \n",
      "0 0 0 \n",
      "\n",
      "0 0 0 \n",
      "0 0 0 \n",
      "0 0 0 \n",
      "0 0 0 \n",
      "\n",
      "0 0 0 \n",
      "0 0 0 \n",
      "0 0 0 \n",
      "0 0 0 \n",
      "\n"
     ]
    }
   ],
   "source": [
    "d3 = np.array([[[0 for i in range(3)] for k in range(4)] for k in range(5)])\n",
    "for i in range(len(d3)):\n",
    "    for j in range(len(d3[i])):\n",
    "        for k in range(len(d3[i,j])):\n",
    "            print(d3[i,j,k],end=' ')\n",
    "        print()\n",
    "    print()"
   ]
  },
  {
   "cell_type": "code",
   "execution_count": 40,
   "metadata": {},
   "outputs": [
    {
     "data": {
      "text/plain": [
       "array([[1, 1, 1, 1, 1, 1, 1, 1, 1],\n",
       "       [2, 2, 2, 2, 2, 2, 2, 2, 2],\n",
       "       [3, 3, 3, 3, 3, 3, 3, 3, 3],\n",
       "       [4, 4, 4, 4, 4, 4, 4, 4, 4],\n",
       "       [5, 5, 5, 5, 5, 5, 5, 5, 5],\n",
       "       [6, 6, 6, 6, 6, 6, 6, 6, 6],\n",
       "       [7, 7, 7, 7, 7, 7, 7, 7, 7],\n",
       "       [8, 8, 8, 8, 8, 8, 8, 8, 8],\n",
       "       [9, 9, 9, 9, 9, 9, 9, 9, 9]])"
      ]
     },
     "execution_count": 40,
     "metadata": {},
     "output_type": "execute_result"
    }
   ],
   "source": [
    "a=-1\n",
    "x=np.array([[0 for i in range(9)]for k in range(9)])\n",
    "for i in range(len(x)):\n",
    "    a+=1\n",
    "    for j in range(len(x[i])):\n",
    "        x[i,j] = a+1\n",
    "x"
   ]
  },
  {
   "cell_type": "code",
   "execution_count": 52,
   "metadata": {},
   "outputs": [
    {
     "name": "stdout",
     "output_type": "stream",
     "text": [
      "1 2 3 4 5 6 7 8 9 \n",
      "\n",
      "2 4 6 8 10 12 14 16 18 \n",
      "\n",
      "3 6 9 12 15 18 21 24 27 \n",
      "\n",
      "4 8 12 16 20 24 28 32 36 \n",
      "\n",
      "5 10 15 20 25 30 35 40 45 \n",
      "\n",
      "6 12 18 24 30 36 42 48 54 \n",
      "\n",
      "7 14 21 28 35 42 49 56 63 \n",
      "\n",
      "8 16 24 32 40 48 56 64 72 \n",
      "\n",
      "9 18 27 36 45 54 63 72 81 \n",
      "\n"
     ]
    }
   ],
   "source": [
    "table=0\n",
    "i=1\n",
    "for i in range(1,10):\n",
    "    table+=1\n",
    "    i=1\n",
    "    for j in range(1,10):\n",
    "        print(table*i,end =\" \")\n",
    "        i+=1\n",
    "    print()\n",
    "    print()"
   ]
  },
  {
   "cell_type": "code",
   "execution_count": null,
   "metadata": {},
   "outputs": [],
   "source": []
  },
  {
   "cell_type": "code",
   "execution_count": 60,
   "metadata": {},
   "outputs": [
    {
     "ename": "ValueError",
     "evalue": "operands could not be broadcast together with shapes (2,4) (4,3) ",
     "output_type": "error",
     "traceback": [
      "\u001b[1;31m---------------------------------------------------------------------------\u001b[0m",
      "\u001b[1;31mValueError\u001b[0m                                Traceback (most recent call last)",
      "\u001b[1;32m<ipython-input-60-a4579a690a67>\u001b[0m in \u001b[0;36m<module>\u001b[1;34m\u001b[0m\n\u001b[0;32m      3\u001b[0m \u001b[1;32mfor\u001b[0m \u001b[0mi\u001b[0m \u001b[1;32min\u001b[0m \u001b[0mrange\u001b[0m\u001b[1;33m(\u001b[0m\u001b[0mlen\u001b[0m\u001b[1;33m(\u001b[0m\u001b[0mm1\u001b[0m\u001b[1;33m)\u001b[0m\u001b[1;33m)\u001b[0m\u001b[1;33m:\u001b[0m\u001b[1;33m\u001b[0m\u001b[1;33m\u001b[0m\u001b[0m\n\u001b[0;32m      4\u001b[0m     \u001b[1;32mfor\u001b[0m \u001b[0mj\u001b[0m \u001b[1;32min\u001b[0m \u001b[0mrange\u001b[0m\u001b[1;33m(\u001b[0m\u001b[0mlen\u001b[0m\u001b[1;33m(\u001b[0m\u001b[0mm2\u001b[0m\u001b[1;33m)\u001b[0m\u001b[1;33m)\u001b[0m\u001b[1;33m:\u001b[0m\u001b[1;33m\u001b[0m\u001b[1;33m\u001b[0m\u001b[0m\n\u001b[1;32m----> 5\u001b[1;33m         \u001b[0mm3\u001b[0m\u001b[1;33m=\u001b[0m\u001b[0mm1\u001b[0m\u001b[1;33m*\u001b[0m\u001b[0mm2\u001b[0m\u001b[1;33m\u001b[0m\u001b[1;33m\u001b[0m\u001b[0m\n\u001b[0m",
      "\u001b[1;31mValueError\u001b[0m: operands could not be broadcast together with shapes (2,4) (4,3) "
     ]
    }
   ],
   "source": [
    "\n",
    "for i in range(len(m1)):\n",
    "    for j in range(len(m2)):\n",
    "        m3=m1*m2"
   ]
  },
  {
   "cell_type": "code",
   "execution_count": 57,
   "metadata": {},
   "outputs": [
    {
     "ename": "ValueError",
     "evalue": "operands could not be broadcast together with shapes (2,4) (3,4,2) ",
     "output_type": "error",
     "traceback": [
      "\u001b[1;31m---------------------------------------------------------------------------\u001b[0m",
      "\u001b[1;31mValueError\u001b[0m                                Traceback (most recent call last)",
      "\u001b[1;32m<ipython-input-57-f8aedbb9d7be>\u001b[0m in \u001b[0;36m<module>\u001b[1;34m\u001b[0m\n\u001b[1;32m----> 1\u001b[1;33m \u001b[0mres\u001b[0m \u001b[1;33m=\u001b[0m \u001b[0mm1\u001b[0m \u001b[1;33m*\u001b[0m \u001b[0mnp\u001b[0m\u001b[1;33m.\u001b[0m\u001b[0mtranspose\u001b[0m\u001b[1;33m(\u001b[0m\u001b[0mnp\u001b[0m\u001b[1;33m.\u001b[0m\u001b[0marray\u001b[0m\u001b[1;33m(\u001b[0m\u001b[1;33m[\u001b[0m\u001b[0mm2\u001b[0m\u001b[1;33m,\u001b[0m\u001b[1;33m]\u001b[0m\u001b[1;33m*\u001b[0m\u001b[1;36m2\u001b[0m\u001b[1;33m)\u001b[0m\u001b[1;33m)\u001b[0m\u001b[1;33m\u001b[0m\u001b[1;33m\u001b[0m\u001b[0m\n\u001b[0m",
      "\u001b[1;31mValueError\u001b[0m: operands could not be broadcast together with shapes (2,4) (3,4,2) "
     ]
    }
   ],
   "source": [
    "res = m1 * np.transpose(np.array([m2,]*2))"
   ]
  },
  {
   "cell_type": "code",
   "execution_count": 71,
   "metadata": {},
   "outputs": [
    {
     "name": "stdout",
     "output_type": "stream",
     "text": [
      "[70, 80, 90]\n",
      "[158, 184, 210]\n"
     ]
    }
   ],
   "source": [
    "m1=np.array([[1,2,3,4],[5,6,7,8]])\n",
    "m2=np. array([[1,2,3],[4,5,6],[7,8,9],[10,11,12]])\n",
    "result = [[0,0,0,],\n",
    "         [0,0,0,],\n",
    "         ]\n",
    "\n",
    "for i in range(len(m1)):\n",
    "\n",
    "    for j in range(len(m2[0])):\n",
    "        for k in range(len(m2)):\n",
    "            result[i][j] += m1[i][k] * m2[k][j]\n",
    "for r in result:\n",
    "    print(r)"
   ]
  },
  {
   "cell_type": "code",
   "execution_count": null,
   "metadata": {},
   "outputs": [],
   "source": []
  }
 ],
 "metadata": {
  "kernelspec": {
   "display_name": "Python 3",
   "language": "python",
   "name": "python3"
  },
  "language_info": {
   "codemirror_mode": {
    "name": "ipython",
    "version": 3
   },
   "file_extension": ".py",
   "mimetype": "text/x-python",
   "name": "python",
   "nbconvert_exporter": "python",
   "pygments_lexer": "ipython3",
   "version": "3.7.3"
  }
 },
 "nbformat": 4,
 "nbformat_minor": 2
}
