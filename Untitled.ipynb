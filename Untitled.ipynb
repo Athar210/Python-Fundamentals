{
 "cells": [
  {
   "cell_type": "code",
   "execution_count": 16,
   "metadata": {},
   "outputs": [
    {
     "name": "stdout",
     "output_type": "stream",
     "text": [
      "enter a number: 3\n",
      "enter a number: 8\n",
      "0.375\n"
     ]
    }
   ],
   "source": [
    "# EXCEPTION\n",
    "a = int(input(\"enter a number: \"))\n",
    "b = int(input(\"enter a number: \"))\n",
    "try:\n",
    "    c =a/b\n",
    "    print(c)\n",
    "except ZeroDivisionError:\n",
    "    print(\"kus k bachay zero ni daal\")\n"
   ]
  },
  {
   "cell_type": "code",
   "execution_count": 21,
   "metadata": {},
   "outputs": [
    {
     "name": "stdout",
     "output_type": "stream",
     "text": [
      "enter a number: 4\n",
      "enter a number: 4\n",
      "1.0\n",
      "error\n"
     ]
    }
   ],
   "source": [
    "m = int(input(\"enter a number: \"))\n",
    "n = int(input(\"enter a number: \"))\n",
    "d = []\n",
    "try:\n",
    "    x =m/n\n",
    "    print(x)\n",
    "    # e = d[5] faltu cheez aegi to wohin ruk jaega aagy ni jaega\n",
    "    #print(e) index error banana parega alag sy\n",
    "except ZeroDivisionError:\n",
    "    print(\"kus k bachay zero ni daal\")\n",
    "else:\n",
    "    print('error')"
   ]
  },
  {
   "cell_type": "code",
   "execution_count": 29,
   "metadata": {},
   "outputs": [
    {
     "name": "stdout",
     "output_type": "stream",
     "text": [
      "enter a number: 4\n",
      "enter a number: 6\n",
      "0.6666666666666666\n",
      "Index error hai\n",
      "0.6666666666666666\n",
      "=================> khel khatam  <=====================\n"
     ]
    }
   ],
   "source": [
    "m = int(input(\"enter a number: \"))\n",
    "n = int(input(\"enter a number: \"))\n",
    "d = []\n",
    "try:\n",
    "    x =m/n\n",
    "    print(x)\n",
    "    e = d[5] \n",
    "    print(e) \n",
    "except ZeroDivisionError:\n",
    "    print(\"kus k bachay zero ni daal\")\n",
    "except IndexError:\n",
    "    print(\"Index error hai\")\n",
    "else:\n",
    "    print('error')\n",
    "print(x)\n",
    "print(\"=================> khel khatam  <=====================\")"
   ]
  },
  {
   "cell_type": "code",
   "execution_count": 37,
   "metadata": {},
   "outputs": [
    {
     "name": "stdout",
     "output_type": "stream",
     "text": [
      "enter a number: 4\n",
      "enter a number: 4\n",
      "ERROR CAUGHT \n",
      "1.0\n"
     ]
    }
   ],
   "source": [
    "d = []\n",
    "try:\n",
    "    m = int(input(\"enter a number: \"))\n",
    "    n = int(input(\"enter a number: \"))\n",
    "    x = m/n\n",
    "    e = d[5]\n",
    "except:\n",
    "    print(\"ERROR CAUGHT \")\n",
    "else:\n",
    "    print(x)\n",
    "print(x)"
   ]
  },
  {
   "cell_type": "code",
   "execution_count": null,
   "metadata": {},
   "outputs": [],
   "source": []
  },
  {
   "cell_type": "code",
   "execution_count": 47,
   "metadata": {},
   "outputs": [
    {
     "name": "stdout",
     "output_type": "stream",
     "text": [
      "enter a number: 4y65\n",
      "ERROR CAUGHT == invalid literal for int() with base 10: '4y65'\n",
      "1.0\n"
     ]
    }
   ],
   "source": [
    "d = []\n",
    "try:\n",
    "    m = int(input(\"enter a number: \"))\n",
    "    n = int(input(\"enter a number: \"))   \n",
    "    x = m/n\n",
    "    ee = d[5]\n",
    "except Exception as e:\n",
    "    print(\"ERROR CAUGHT == \"+str(e))\n",
    "print(x)"
   ]
  },
  {
   "cell_type": "code",
   "execution_count": 48,
   "metadata": {},
   "outputs": [
    {
     "name": "stdout",
     "output_type": "stream",
     "text": [
      "enter a number: 4\n",
      "enter a number: 4\n",
      "ERROR CAUGHT == list index out of range\n",
      "finally hamesha chalega chahy error ae ya na ae\n"
     ]
    }
   ],
   "source": [
    "d = []\n",
    "try:\n",
    "    m = int(input(\"enter a number: \"))\n",
    "    n = int(input(\"enter a number: \"))   \n",
    "    x = m/n\n",
    "    ee = d[5]\n",
    "except Exception as e:\n",
    "    print(\"ERROR CAUGHT == \"+str(e))\n",
    "finally:\n",
    "    print(\"finally hamesha chalega chahy error ae ya na ae\")"
   ]
  },
  {
   "cell_type": "code",
   "execution_count": 14,
   "metadata": {},
   "outputs": [],
   "source": [
    "class Student():\n",
    "    def __init__(self,name,age):\n",
    "        if age < 10 or age > 80:\n",
    "            raise MERA_Error(\"Bhai age 10 sy kam ya 80 sy zyada allow nhi  \") # mera hata k sirf Exception lagao to real error ki tarah open hoga\n",
    "        self.name = name\n",
    "        self.age = age\n"
   ]
  },
  {
   "cell_type": "code",
   "execution_count": 13,
   "metadata": {},
   "outputs": [
    {
     "name": "stdout",
     "output_type": "stream",
     "text": [
      "Enter student age: 99\n",
      "error == Bhai age 10 sy kam ya 80 sy zyada allow nhi  \n"
     ]
    }
   ],
   "source": [
    "class MERA_Error(Exception):\n",
    "    pass\n",
    "\n",
    "try:\n",
    "    age = int(input(\"Enter student age: \"))\n",
    "    st = Student(f\"Athar\",age)\n",
    "    print(f\"mera naam {st.name} aur meri age {st.age} hai\")\n",
    "except MERA_Error as e:\n",
    "    print(f\"error == {e}\")\n",
    "else: \n",
    "    pass"
   ]
  },
  {
   "cell_type": "code",
   "execution_count": 11,
   "metadata": {},
   "outputs": [
    {
     "name": "stdout",
     "output_type": "stream",
     "text": [
      "['to bhai']\n",
      "['scnz']\n",
      "['kuch aise']\n",
      "['hain']\n"
     ]
    }
   ],
   "source": [
    "import csv #excell form mn data read krwana \n",
    "with open(\"competitions.csv\") as f:\n",
    "    x = csv.reader(f)\n",
    "    for c in x:\n",
    "        print(c)\n"
   ]
  },
  {
   "cell_type": "code",
   "execution_count": null,
   "metadata": {},
   "outputs": [],
   "source": []
  }
 ],
 "metadata": {
  "kernelspec": {
   "display_name": "Python 3",
   "language": "python",
   "name": "python3"
  },
  "language_info": {
   "codemirror_mode": {
    "name": "ipython",
    "version": 3
   },
   "file_extension": ".py",
   "mimetype": "text/x-python",
   "name": "python",
   "nbconvert_exporter": "python",
   "pygments_lexer": "ipython3",
   "version": "3.7.3"
  }
 },
 "nbformat": 4,
 "nbformat_minor": 2
}
