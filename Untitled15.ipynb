{
 "cells": [
  {
   "cell_type": "code",
   "execution_count": 4,
   "metadata": {},
   "outputs": [
    {
     "name": "stdout",
     "output_type": "stream",
     "text": [
      "2019 Audi A4\n",
      "This car has 23 miles on\n",
      "None\n"
     ]
    }
   ],
   "source": [
    "class Car():\n",
    "    \n",
    "    def __init__(self,make,model,year):\n",
    "        self.make = make\n",
    "        self.model = model\n",
    "        self.year = year\n",
    "        self.odo = 23 # this attribute is not mandatory for instance creation\n",
    "    def D_name(self):\n",
    "        longname = str(self.year) + \" \" + self.make +\" \"+ self.model\n",
    "        return longname.title()\n",
    "    def odoo(self):\n",
    "        print(\"This car has \"+ str(self.odo) + \" miles on\")\n",
    "        \n",
    "c1 = Car(\"Audi\",\"A4\",2019)\n",
    "print(c1.D_name())\n",
    "print(c1.odoo())"
   ]
  },
  {
   "cell_type": "code",
   "execution_count": 6,
   "metadata": {},
   "outputs": [],
   "source": [
    "class Student():\n",
    "    def __init__(self,name,fname,marks):\n",
    "        self.name = name\n",
    "        self.fname = fname\n",
    "        self.marks = marks\n",
    "    def details(self):\n",
    "        print(f\"Name is {self.name}\\nFather name = {self.fname}\\nMarks are {self.marks}\")\n",
    "s1 = Student(\"Athar\",\"Rasool bux\",87)\n",
    "    "
   ]
  },
  {
   "cell_type": "code",
   "execution_count": 7,
   "metadata": {},
   "outputs": [
    {
     "name": "stdout",
     "output_type": "stream",
     "text": [
      "Name is Athar\n",
      "Father name = Rasool bux\n",
      "Marks are 87\n"
     ]
    }
   ],
   "source": [
    "class teacher(Student):\n",
    "    def __init__():"
   ]
  },
  {
   "cell_type": "code",
   "execution_count": null,
   "metadata": {},
   "outputs": [],
   "source": []
  }
 ],
 "metadata": {
  "kernelspec": {
   "display_name": "Python 3",
   "language": "python",
   "name": "python3"
  },
  "language_info": {
   "codemirror_mode": {
    "name": "ipython",
    "version": 3
   },
   "file_extension": ".py",
   "mimetype": "text/x-python",
   "name": "python",
   "nbconvert_exporter": "python",
   "pygments_lexer": "ipython3",
   "version": "3.7.3"
  }
 },
 "nbformat": 4,
 "nbformat_minor": 2
}
