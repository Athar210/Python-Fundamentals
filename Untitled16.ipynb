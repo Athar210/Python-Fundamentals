{
 "cells": [
  {
   "cell_type": "code",
   "execution_count": 13,
   "metadata": {},
   "outputs": [],
   "source": [
    "class Car():\n",
    "    def __init__(self,company,model,year):\n",
    "        self.company = company\n",
    "        self.model = model\n",
    "        self.year = year\n",
    "        self.count = 0\n",
    "    def gari(self):\n",
    "        longname = self.company.upper() + \" \"+self.model.upper() + str(self.year)\n",
    "        return longname\n",
    "    def update(self,mileage):\n",
    "        self.count += mileage\n",
    "        print(f\"{self.count}\")\n",
    "        "
   ]
  },
  {
   "cell_type": "code",
   "execution_count": 14,
   "metadata": {},
   "outputs": [
    {
     "name": "stdout",
     "output_type": "stream",
     "text": [
      " AUDI  A7 2019\n",
      "20\n"
     ]
    }
   ],
   "source": [
    "c1 = Car(\" audi\",\" A7 \", 2019)\n",
    "print(c1.gari())\n",
    "c1.update(20)"
   ]
  },
  {
   "cell_type": "code",
   "execution_count": 16,
   "metadata": {},
   "outputs": [],
   "source": [
    "class User():\n",
    "    def __init__(self,fname,lname,gender,email):\n",
    "        self.fname = fname\n",
    "        self.lname = lname\n",
    "        self.gender = gender\n",
    "        self.loginattempts = 0\n",
    "        self.email = email\n",
    "        def firstname(self):\n",
    "            x = f\"my first name is {self.fname} and my last name is {self.lname}\"\n",
    "            return x\n",
    "    def lastname(self):\n",
    "        xx = f\"my email id is {self.email} and gender is {self.gender}\"\n",
    "        return xx\n",
    "    def incLogin(self,inc):\n",
    "        self.loginattempts += inc\n",
    "    def readlogin(self):\n",
    "        print(f\"total logins are {self.loginattempts}\")\n",
    "    def des_user(self):\n",
    "        print(f\"user name is {self.fname} {self.lname}\")\n",
    "        print(f\"user gender is {self.gender}\")        "
   ]
  },
  {
   "cell_type": "code",
   "execution_count": 20,
   "metadata": {},
   "outputs": [
    {
     "name": "stdout",
     "output_type": "stream",
     "text": [
      "total logins are 34\n"
     ]
    }
   ],
   "source": [
    "listt = User(\"Athar\",\" Rasool\",\"Male\",\"jgsadjkskj\")\n",
    "listt.incLogin(34)\n",
    "listt.readlogin()"
   ]
  },
  {
   "cell_type": "code",
   "execution_count": 21,
   "metadata": {},
   "outputs": [
    {
     "name": "stdout",
     "output_type": "stream",
     "text": [
      "total logins are 34\n"
     ]
    }
   ],
   "source": [
    "list.readlogin()"
   ]
  },
  {
   "cell_type": "code",
   "execution_count": 22,
   "metadata": {},
   "outputs": [],
   "source": [
    "class Restaurant():     \n",
    "    def __init__(self, restaurantName, cuisineType):\n",
    "        self.restaurantName = restaurantName\n",
    "        self.cuisineType= cuisineType\n",
    "        self.numberServed = 0\n",
    "        \n",
    "    def set_number_served(self, numbers):\n",
    "        self.numberServed = numbers\n",
    "        \n",
    "    def increment_number_served(self,numbers):\n",
    "        self.numberServed +=numbers\n",
    "    \n",
    "    def getNumbersServed(self):\n",
    "        print(f\"Total customers served today are {self.numberServed }\")\n",
    "    \n",
    "    def describeRestaurant(self):\n",
    "        print(f\"The name of restaurant is {self.restaurantName}\")\n",
    "        print(f\"The cuisine type is {self.cuisineType}\")\n",
    "        \n",
    "    def openRestaurant(self):\n",
    "        print(f\"{self.restaurantName} is open now\")           "
   ]
  },
  {
   "cell_type": "code",
   "execution_count": 23,
   "metadata": {},
   "outputs": [],
   "source": [
    "listt = Restaurant(\"anwar\",\"karahi\")"
   ]
  },
  {
   "cell_type": "code",
   "execution_count": 24,
   "metadata": {},
   "outputs": [
    {
     "name": "stdout",
     "output_type": "stream",
     "text": [
      "Total customers served today are 30\n"
     ]
    }
   ],
   "source": [
    "listt.increment_number_served(30)\n",
    "listt.getNumbersServed()"
   ]
  },
  {
   "cell_type": "code",
   "execution_count": 25,
   "metadata": {},
   "outputs": [
    {
     "name": "stdout",
     "output_type": "stream",
     "text": [
      "anwar is open now\n"
     ]
    }
   ],
   "source": [
    "listt.openRestaurant()"
   ]
  },
  {
   "cell_type": "code",
   "execution_count": 26,
   "metadata": {},
   "outputs": [],
   "source": [
    "class rest():\n",
    "    def __init__(self,food,openn,address):\n",
    "        self.food = food\n",
    "        self.openn = openn\n",
    "        self.address = address\n",
    "        self.count = 0\n",
    "    def khana(self):\n",
    "        print(f\"iska {self.food} mashahoor hai\")\n",
    "    def khula(self):\n",
    "        print(f\"aj ye hotel {self.openn} hai !! \")\n",
    "    def address(self):\n",
    "        print(f\"ye bc {self.address} pr milega apko\")\n",
    "    def sett(self,mm):\n",
    "        self.count = mm\n",
    "        return mm\n",
    "    def inc(self,mm):\n",
    "        self.count += mm\n",
    "    def show(self):\n",
    "        print(f\"total chutiyapa {self.count}\")"
   ]
  },
  {
   "cell_type": "code",
   "execution_count": null,
   "metadata": {},
   "outputs": [],
   "source": []
  },
  {
   "cell_type": "code",
   "execution_count": 27,
   "metadata": {},
   "outputs": [
    {
     "name": "stdout",
     "output_type": "stream",
     "text": [
      " ye bc 13\n"
     ]
    }
   ],
   "source": [
    "m1 = rest(\"tikka\",\"band\",\"tariq road\")\n",
    "print(f\" ye bc {m1.sett(13)}\")\n"
   ]
  },
  {
   "cell_type": "code",
   "execution_count": 29,
   "metadata": {},
   "outputs": [
    {
     "name": "stdout",
     "output_type": "stream",
     "text": [
      " ye bc None\n",
      "total chutiyapa 21\n",
      " ye bc None\n",
      "total chutiyapa 21\n"
     ]
    }
   ],
   "source": [
    "print(f\" ye bc {m1.inc(4)}\")\n",
    "print(f\" ye bc {m1.show()}\")\n",
    "m1.show()"
   ]
  },
  {
   "cell_type": "code",
   "execution_count": 30,
   "metadata": {},
   "outputs": [],
   "source": [
    "class Restaurant():     \n",
    "    def __init__(self, restaurantName, cuisineType):\n",
    "        self.restaurantName = restaurantName\n",
    "        self.cuisineType= cuisineType\n",
    "        self.numberServed = 0\n",
    "        \n",
    "    def set_number_served(self, numbers):\n",
    "        self.numberServed = numbers\n",
    "        \n",
    "    def increment_number_served(self,numbers):\n",
    "        self.numberServed +=numbers\n",
    "    \n",
    "    def getNumbersServed(self):\n",
    "        print(f\"Total customers served today are {self.numberServed }\")\n",
    "    \n",
    "    def describeRestaurant(self):\n",
    "        print(f\"The name of restaurant is {self.restaurantName}\")\n",
    "        print(f\"The cuisine type is {self.cuisineType}\")\n",
    "        \n",
    "    def openRestaurant(self):\n",
    "        print(f\"{self.restaurantName} is open now\")           "
   ]
  },
  {
   "cell_type": "code",
   "execution_count": 31,
   "metadata": {},
   "outputs": [],
   "source": [
    "list1=Restaurant(\"habibi\",\"tikka\")\n",
    "list1.set_number_served(15)\n"
   ]
  },
  {
   "cell_type": "code",
   "execution_count": 32,
   "metadata": {},
   "outputs": [
    {
     "name": "stdout",
     "output_type": "stream",
     "text": [
      "Total customers served today are 18\n"
     ]
    }
   ],
   "source": [
    "list1.increment_number_served(3)\n",
    "list1.getNumbersServed()"
   ]
  },
  {
   "cell_type": "code",
   "execution_count": 33,
   "metadata": {},
   "outputs": [],
   "source": [
    "class car():\n",
    "    def __init__(self,naam,model):\n",
    "        self.naam = naam\n",
    "        self.model = model\n",
    "        self.odo = 0\n",
    "    def gari(self):\n",
    "        print(f\"hamari gari {naam} aur {model} model hai\")\n",
    "    def sett(self,x):\n",
    "        self.odo = x\n",
    "        return x\n",
    "    def inc(self,x):\n",
    "        self.odo += x\n",
    "        return x\n",
    "    def show(self):\n",
    "        print(self.odo)"
   ]
  },
  {
   "cell_type": "code",
   "execution_count": 34,
   "metadata": {},
   "outputs": [
    {
     "data": {
      "text/plain": [
       "10"
      ]
     },
     "execution_count": 34,
     "metadata": {},
     "output_type": "execute_result"
    }
   ],
   "source": [
    "res1=car(\"corolla\",\"2019\")\n",
    "res1.sett(10)"
   ]
  },
  {
   "cell_type": "code",
   "execution_count": 35,
   "metadata": {},
   "outputs": [
    {
     "name": "stdout",
     "output_type": "stream",
     "text": [
      "12\n"
     ]
    }
   ],
   "source": [
    "res1.inc(2)\n",
    "res1.show()"
   ]
  },
  {
   "cell_type": "code",
   "execution_count": 36,
   "metadata": {},
   "outputs": [
    {
     "name": "stdout",
     "output_type": "stream",
     "text": [
      "12\n"
     ]
    }
   ],
   "source": [
    "res1.show()"
   ]
  },
  {
   "cell_type": "markdown",
   "metadata": {},
   "source": [
    "\n",
    "# Inheritance"
   ]
  },
  {
   "cell_type": "markdown",
   "metadata": {},
   "source": [
    "###  CODE REUSEABILITY"
   ]
  },
  {
   "cell_type": "code",
   "execution_count": 37,
   "metadata": {},
   "outputs": [],
   "source": [
    "class Car():\n",
    "    def __init__(self,naam,model):\n",
    "        self.naam = naam\n",
    "        self.model = model\n",
    "        self.odo = 0\n",
    "    def gari(self):\n",
    "        print(f\"hamari gari {self.naam} aur {self.model} model hai\")\n",
    "    def sett(self,x):\n",
    "        self.odo = x\n",
    "        return x\n",
    "    def inc(self,x):\n",
    "        self.odo += x\n",
    "        return x\n",
    "    def show(self):\n",
    "        print(self.odo)\n",
    "    def getfuel(self):\n",
    "        print(\"100 litre\")\n"
   ]
  },
  {
   "cell_type": "code",
   "execution_count": 52,
   "metadata": {},
   "outputs": [],
   "source": [
    "class Electric(Car):\n",
    "    def __init__(self,naam,model):\n",
    "        super(). __init__(naam,model)\n",
    "        self.battery = Battery(\"small\",\"300A\",44,\"Exide\")\n",
    "        self.engine = \"3000cc\"\n",
    "        self.software = \"ios\"\n",
    "        self.engineee = engine(\"1800\",\"240\",\"v8\")\n",
    "        \n",
    "    def batterysize(self):\n",
    "        print(f\"iski battery {self.battery}\" )\n",
    "    def newbattery(self,newb):\n",
    "        self.battery = newb\n",
    "        return self.battery\n",
    "    def enngine(self):\n",
    "        print(f\"{self.engine}\")\n",
    "        \n",
    "ecar1=Electric(\"corolla\",2018)        "
   ]
  },
  {
   "cell_type": "code",
   "execution_count": 53,
   "metadata": {},
   "outputs": [],
   "source": [
    "class Battery():\n",
    "    def __init__(self,size,amp,plates,comp):\n",
    "        self.size = size\n",
    "        self.amp = amp\n",
    "        self.plates = plates \n",
    "        self.comp = comp\n",
    "    def getbatterysize(self):\n",
    "        print(f\"iski battery {self.size} hai \")\n",
    "    def getbatteryamp(self):\n",
    "        print(f\"iski Amperes {self.amp} hai \")\n",
    "    def getbatteryplates(self):\n",
    "        print(f\"iski plates {self.plates} hai \")\n",
    "    def getbatterycomp(self):\n",
    "        print(f\"iski battery {self.comp} hai \")        "
   ]
  },
  {
   "cell_type": "code",
   "execution_count": 54,
   "metadata": {
    "collapsed": true
   },
   "outputs": [],
   "source": [
    "class engine():\n",
    "    def __init__(self,cc,horsepower,v):\n",
    "        self.cc = cc\n",
    "        self.horsepower = horsepower\n",
    "        self.v = v\n",
    "        self.gadha = \"Land Cruiser\"\n",
    "    def seesee(self):\n",
    "        print(f\"iski cc {self.cc} hai !!\")\n",
    "    def horsa(self):\n",
    "        print(f\"iski speed {self.horsepower} hai !!\")\n",
    "    def gaddha(self):\n",
    "        print(f\"iski cc {self.gadha} hai !!\")"
   ]
  },
  {
   "cell_type": "code",
   "execution_count": 55,
   "metadata": {},
   "outputs": [],
   "source": [
    "ecar11=Electric(\"mehran\",\"2017\")"
   ]
  },
  {
   "cell_type": "code",
   "execution_count": 56,
   "metadata": {},
   "outputs": [
    {
     "name": "stdout",
     "output_type": "stream",
     "text": [
      "iski plates 44 hai \n"
     ]
    }
   ],
   "source": [
    "ecar1.battery.getbatteryplates()"
   ]
  },
  {
   "cell_type": "code",
   "execution_count": 58,
   "metadata": {},
   "outputs": [
    {
     "name": "stdout",
     "output_type": "stream",
     "text": [
      "iski speed 240 hai !!\n"
     ]
    }
   ],
   "source": [
    "ecar1.engineee.horsa()"
   ]
  },
  {
   "cell_type": "raw",
   "metadata": {},
   "source": [
    "#FILE HANDLING"
   ]
  },
  {
   "cell_type": "code",
   "execution_count": 44,
   "metadata": {},
   "outputs": [],
   "source": [
    "with open(\"athar.txt\",\"w\")  as hululu:\n",
    "    hululu.write(\" dont go look at me with that look in your eye!!! you really ain't going nowhere without a fight!! \")"
   ]
  },
  {
   "cell_type": "code",
   "execution_count": 45,
   "metadata": {},
   "outputs": [
    {
     "name": "stdout",
     "output_type": "stream",
     "text": [
      " dont go look at me with that look in your eye!!! you really ain't going nowhere without a fight!! \n",
      "==============================================================================================================\n"
     ]
    }
   ],
   "source": [
    "with open(\"athar.txt\",\"r\") as halala:\n",
    "    print(halala.read())\n",
    "    print(\"==============================================================================================================\")\n",
    "    \n",
    "#write overwright krdega. agar pichla kam bachana hai aur doosra daalna hai to append krwao"
   ]
  },
  {
   "cell_type": "code",
   "execution_count": 46,
   "metadata": {},
   "outputs": [],
   "source": [
    "with open(\"athar.txt\",\"a\") as file:\n",
    "    file.write(\"halalalalalalalala\")"
   ]
  },
  {
   "cell_type": "code",
   "execution_count": 47,
   "metadata": {},
   "outputs": [
    {
     "name": "stdout",
     "output_type": "stream",
     "text": [
      " dont go look at me with that look in your eye!!! you really ain't going nowhere without a fight!! halalalalalalalala\n"
     ]
    }
   ],
   "source": [
    "with open(\"athar.txt\",\"r\") as halala:\n",
    "    print(halala.read())"
   ]
  },
  {
   "cell_type": "code",
   "execution_count": 48,
   "metadata": {},
   "outputs": [
    {
     "name": "stdout",
     "output_type": "stream",
     "text": [
      "acha bhaiiook at me with that look in your eye!!! you really ain't going nowhere without a fight!! halalalalalalalala\n"
     ]
    }
   ],
   "source": [
    "with open(\"athar.txt\",\"r+\") as hululu:\n",
    "    hululu.write(\"acha bhaii\") # shuru wale data sy overwrite krdega\n",
    "    hululu.seek(0)   \n",
    "    print(hululu.read())"
   ]
  },
  {
   "cell_type": "code",
   "execution_count": 59,
   "metadata": {},
   "outputs": [],
   "source": [
    "with open(\"meme.txt\",\"a\") as maymay:\n",
    "    maymay.write(\"niklay the sacha pyaar dhondny garmi boht thi wapis aagaye ganney ka juice pee kr \")"
   ]
  },
  {
   "cell_type": "code",
   "execution_count": 70,
   "metadata": {},
   "outputs": [
    {
     "name": "stdout",
     "output_type": "stream",
     "text": [
      "niklay the sacha pyaar dhondny garmi boht thi wapis aagaye ganney ka juice pee kr \n",
      "\n",
      "\t\t\t\t\t\t\t\t\t\t\t\t\t\t\n",
      "niklay the sacha pyaar dhondny garmi boht thi wapis aagaye ganney ka juice pee kr \n"
     ]
    }
   ],
   "source": [
    "with open(\"meme.txt\",\"r\") as maymay:\n",
    "    print(maymay.read())\n",
    "    print(maymay.read())\n",
    "    print(\"\\t\\t\\t\\t\\t\\t\\t\\t\\t\\t\\t\\t\\t\\t\")\n",
    "    maymay.seek(0)\n",
    "    print(maymay.read())"
   ]
  },
  {
   "cell_type": "code",
   "execution_count": 82,
   "metadata": {},
   "outputs": [],
   "source": [
    "with open(\"meme.txt\",\"a\") as maymay:\n",
    "    maymay.write(\"You say you love me, I say you crazy We're nothing more than friendsYou're not my lover, more like a brotherI known you since we were like ten, yeahDon't mess it up, talking that shitOnly gonna push me away, that's itWhen you say you love me, that make mecrazyHere we go againDon't go look at me with that look in your eyeYou really ain't going away without a fightYou can't be reasoned with, I'm done being politeI've told you one, two, three, four, five, six thousand timesHaven't I made it obvious?    \")\n",
    "    "
   ]
  },
  {
   "cell_type": "code",
   "execution_count": 83,
   "metadata": {},
   "outputs": [
    {
     "name": "stdout",
     "output_type": "stream",
     "text": [
      "niklay the sacha pyaar dhondny garmi boht thi wapis aagaye ganney ka juice pee kr You say you love me, I say you crazy We're nothing more than friendsYou're not my lover, more like a brotherI known you since we were like ten, yeahDon't mess it up, talking that shitOnly gonna push me away, that's itWhen you say you love me, that make mecrazyHere we go againDon't go look at me with that look in your eyeYou really ain't going away without a fightYou can't be reasoned with, I'm done being politeI've told you one, two, three, four, five, six thousand timesHaven't I made it obvious?You say you love me, I say you crazy We're nothing more than friendsYou're not my lover, more like a brotherI known you since we were like ten, yeahDon't mess it up, talking that shitOnly gonna push me away, that's itWhen you say you love me, that make mecrazyHere we go againDon't go look at me with that look in your eyeYou really ain't going away without a fightYou can't be reasoned with, I'm done being politeI've told you one, two, three, four, five, six thousand timesHaven't I made it obvious?You say you love me, I say you crazy We're nothing more than friendsYou're not my lover, more like a brotherI known you since we were like ten, yeahDon't mess it up, talking that shitOnly gonna push me away, that's itWhen you say you love me, that make mecrazyHere we go againDon't go look at me with that look in your eyeYou really ain't going away without a fightYou can't be reasoned with, I'm done being politeI've told you one, two, three, four, five, six thousand timesHaven't I made it obvious?You say you love me, I say you crazy We're nothing more than friendsYou're not my lover, more like a brotherI known you since we were like ten, yeahDon't mess it up, talking that shitOnly gonna push me away, that's itWhen you say you love me, that make mecrazyHere we go againDon't go look at me with that look in your eyeYou really ain't going away without a fightYou can't be reasoned with, I'm done being politeI've told you one, two, three, four, five, six thousand timesHaven't I made it obvious?    \n"
     ]
    }
   ],
   "source": [
    "with open(\"meme.txt\",\"r\") as maymay:\n",
    "    print(maymay.read())"
   ]
  },
  {
   "cell_type": "code",
   "execution_count": null,
   "metadata": {},
   "outputs": [],
   "source": []
  }
 ],
 "metadata": {
  "kernelspec": {
   "display_name": "Python 3",
   "language": "python",
   "name": "python3"
  },
  "language_info": {
   "codemirror_mode": {
    "name": "ipython",
    "version": 3
   },
   "file_extension": ".py",
   "mimetype": "text/x-python",
   "name": "python",
   "nbconvert_exporter": "python",
   "pygments_lexer": "ipython3",
   "version": "3.7.3"
  }
 },
 "nbformat": 4,
 "nbformat_minor": 2
}
